{
 "cells": [
  {
   "cell_type": "code",
   "execution_count": 38,
   "id": "1d6faa9c-3b66-4f0c-998c-f1d0add07ff7",
   "metadata": {
    "editable": true,
    "slideshow": {
     "slide_type": ""
    },
    "tags": []
   },
   "outputs": [],
   "source": [
    "import spacy\n",
    "from collections import Counter, OrderedDict, defaultdict\n",
    "from datasets import load_dataset\n",
    "from elasticsearch import Elasticsearch\n",
    "import random\n",
    "from spacy.tokenizer import Tokenizer\n",
    "import pandas as pd\n",
    "import re\n",
    "import math"
   ]
  },
  {
   "cell_type": "code",
   "execution_count": 2,
   "id": "0dbfe2dc-6df9-4ea0-9c72-a5b89c9f6d7e",
   "metadata": {},
   "outputs": [],
   "source": [
    "client = Elasticsearch(\n",
    "    \"http://localhost:9200\",\n",
    "    basic_auth=(\"elastic\", \"<hidden>\"),\n",
    "    verify_certs=False\n",
    ")"
   ]
  },
  {
   "cell_type": "code",
   "execution_count": 5,
   "id": "18f06267-9c5c-444d-a69e-2fa47158472e",
   "metadata": {},
   "outputs": [],
   "source": [
    "ds = load_dataset(\"clarin-knext/fiqa-pl\", \"corpus\")\n",
    "ds_queries = load_dataset(\"clarin-knext/fiqa-pl\",\"queries\")\n",
    "ds_qa = load_dataset(\"clarin-knext/fiqa-pl-qrels\")['test']\n",
    "nlp = spacy.load(\"pl_core_news_sm\") # spacy language model for polish\n",
    "tokenizer = Tokenizer(nlp.vocab)"
   ]
  },
  {
   "cell_type": "markdown",
   "id": "682922a6-06ee-4f0d-811d-9adeb6c02365",
   "metadata": {},
   "source": [
    "### Compute frequency list for each of the processed files."
   ]
  },
  {
   "cell_type": "code",
   "execution_count": 12,
   "id": "3c9cb033-3014-40fb-be58-437a5e685f30",
   "metadata": {},
   "outputs": [],
   "source": [
    "df=pd.DataFrame(ds['corpus'])\n",
    "df['text'] = df['text'].apply(lambda text: re.sub('\\W+', ' ', text))\n",
    "df['tokens']=df['text'].apply(lambda x: tokenizer(x.lower()))\n",
    "df.drop(columns=['title'], inplace=True)"
   ]
  },
  {
   "cell_type": "code",
   "execution_count": 13,
   "id": "faae9adb-7931-4d9f-8a73-8c1d16a98cf8",
   "metadata": {},
   "outputs": [
    {
     "data": {
      "text/html": [
       "<div>\n",
       "<style scoped>\n",
       "    .dataframe tbody tr th:only-of-type {\n",
       "        vertical-align: middle;\n",
       "    }\n",
       "\n",
       "    .dataframe tbody tr th {\n",
       "        vertical-align: top;\n",
       "    }\n",
       "\n",
       "    .dataframe thead th {\n",
       "        text-align: right;\n",
       "    }\n",
       "</style>\n",
       "<table border=\"1\" class=\"dataframe\">\n",
       "  <thead>\n",
       "    <tr style=\"text-align: right;\">\n",
       "      <th></th>\n",
       "      <th>_id</th>\n",
       "      <th>text</th>\n",
       "      <th>tokens</th>\n",
       "    </tr>\n",
       "  </thead>\n",
       "  <tbody>\n",
       "    <tr>\n",
       "      <th>0</th>\n",
       "      <td>3</td>\n",
       "      <td>Nie mówię że nie podoba mi się też pomysł szko...</td>\n",
       "      <td>(nie, mówię, że, nie, podoba, mi, się, też, po...</td>\n",
       "    </tr>\n",
       "    <tr>\n",
       "      <th>1</th>\n",
       "      <td>31</td>\n",
       "      <td>Tak więc nic nie zapobiega fałszywym ocenom po...</td>\n",
       "      <td>(tak, więc, nic, nie, zapobiega, fałszywym, oc...</td>\n",
       "    </tr>\n",
       "    <tr>\n",
       "      <th>2</th>\n",
       "      <td>56</td>\n",
       "      <td>Nigdy nie możesz korzystać z FSA dla indywidua...</td>\n",
       "      <td>(nigdy, nie, możesz, korzystać, z, fsa, dla, i...</td>\n",
       "    </tr>\n",
       "    <tr>\n",
       "      <th>3</th>\n",
       "      <td>59</td>\n",
       "      <td>Samsung stworzył LCD i inne technologie płaski...</td>\n",
       "      <td>(samsung, stworzył, lcd, i, inne, technologie,...</td>\n",
       "    </tr>\n",
       "    <tr>\n",
       "      <th>4</th>\n",
       "      <td>63</td>\n",
       "      <td>Oto wymagania SEC Federalne przepisy dotyczące...</td>\n",
       "      <td>(oto, wymagania, sec, federalne, przepisy, dot...</td>\n",
       "    </tr>\n",
       "    <tr>\n",
       "      <th>...</th>\n",
       "      <td>...</td>\n",
       "      <td>...</td>\n",
       "      <td>...</td>\n",
       "    </tr>\n",
       "    <tr>\n",
       "      <th>57633</th>\n",
       "      <td>599946</td>\n",
       "      <td>Cóż po pierwsze drogi to coś więcej niż hobby...</td>\n",
       "      <td>( , cóż, po, pierwsze, drogi, to, coś, więcej,...</td>\n",
       "    </tr>\n",
       "    <tr>\n",
       "      <th>57634</th>\n",
       "      <td>599953</td>\n",
       "      <td>Tak robią Na dotacje dla firm farmaceutycznych...</td>\n",
       "      <td>(tak, robią, na, dotacje, dla, firm, farmaceut...</td>\n",
       "    </tr>\n",
       "    <tr>\n",
       "      <th>57635</th>\n",
       "      <td>599966</td>\n",
       "      <td>To bardzo smutne że nie rozumiesz ludzkiej na...</td>\n",
       "      <td>( , to, bardzo, smutne, że, nie, rozumiesz, lu...</td>\n",
       "    </tr>\n",
       "    <tr>\n",
       "      <th>57636</th>\n",
       "      <td>599975</td>\n",
       "      <td>Czy Twój CTO pozwolił dużej grupie użyć admin...</td>\n",
       "      <td>( , czy, twój, cto, pozwolił, dużej, grupie, u...</td>\n",
       "    </tr>\n",
       "    <tr>\n",
       "      <th>57637</th>\n",
       "      <td>599987</td>\n",
       "      <td>Zapewnienie rządowi większej kontroli nad dyst...</td>\n",
       "      <td>(zapewnienie, rządowi, większej, kontroli, nad...</td>\n",
       "    </tr>\n",
       "  </tbody>\n",
       "</table>\n",
       "<p>57638 rows × 3 columns</p>\n",
       "</div>"
      ],
      "text/plain": [
       "          _id                                               text  \\\n",
       "0           3  Nie mówię że nie podoba mi się też pomysł szko...   \n",
       "1          31  Tak więc nic nie zapobiega fałszywym ocenom po...   \n",
       "2          56  Nigdy nie możesz korzystać z FSA dla indywidua...   \n",
       "3          59  Samsung stworzył LCD i inne technologie płaski...   \n",
       "4          63  Oto wymagania SEC Federalne przepisy dotyczące...   \n",
       "...       ...                                                ...   \n",
       "57633  599946   Cóż po pierwsze drogi to coś więcej niż hobby...   \n",
       "57634  599953  Tak robią Na dotacje dla firm farmaceutycznych...   \n",
       "57635  599966   To bardzo smutne że nie rozumiesz ludzkiej na...   \n",
       "57636  599975   Czy Twój CTO pozwolił dużej grupie użyć admin...   \n",
       "57637  599987  Zapewnienie rządowi większej kontroli nad dyst...   \n",
       "\n",
       "                                                  tokens  \n",
       "0      (nie, mówię, że, nie, podoba, mi, się, też, po...  \n",
       "1      (tak, więc, nic, nie, zapobiega, fałszywym, oc...  \n",
       "2      (nigdy, nie, możesz, korzystać, z, fsa, dla, i...  \n",
       "3      (samsung, stworzył, lcd, i, inne, technologie,...  \n",
       "4      (oto, wymagania, sec, federalne, przepisy, dot...  \n",
       "...                                                  ...  \n",
       "57633  ( , cóż, po, pierwsze, drogi, to, coś, więcej,...  \n",
       "57634  (tak, robią, na, dotacje, dla, firm, farmaceut...  \n",
       "57635  ( , to, bardzo, smutne, że, nie, rozumiesz, lu...  \n",
       "57636  ( , czy, twój, cto, pozwolił, dużej, grupie, u...  \n",
       "57637  (zapewnienie, rządowi, większej, kontroli, nad...  \n",
       "\n",
       "[57638 rows x 3 columns]"
      ]
     },
     "execution_count": 13,
     "metadata": {},
     "output_type": "execute_result"
    }
   ],
   "source": [
    "df"
   ]
  },
  {
   "cell_type": "code",
   "execution_count": 14,
   "id": "844020a8-3e7b-4790-bc7c-5bb6e0c4fa79",
   "metadata": {},
   "outputs": [],
   "source": [
    "def tokens_to_text_list(tokens): # without it something didn't work\n",
    "    # We assume that `tokens` is a list of spacy.tokens.token.Token objects\n",
    "    return [token.text for token in tokens]\n",
    "\n",
    "df['tokens'] = df['tokens'].apply(tokens_to_text_list)"
   ]
  },
  {
   "cell_type": "code",
   "execution_count": 15,
   "id": "c6882246-d1f8-4062-a72a-5a98ef1c1089",
   "metadata": {},
   "outputs": [],
   "source": [
    "def count_tokens(tokens):\n",
    "    return dict(Counter(tokens))\n",
    "\n",
    "# Create new 'freq_list' column with token counts\n",
    "df['freq_list'] = df['tokens'].apply(count_tokens)"
   ]
  },
  {
   "cell_type": "code",
   "execution_count": 16,
   "id": "210d2daf-d499-4cec-90b6-b77f2f17f2a9",
   "metadata": {},
   "outputs": [
    {
     "data": {
      "text/html": [
       "<div>\n",
       "<style scoped>\n",
       "    .dataframe tbody tr th:only-of-type {\n",
       "        vertical-align: middle;\n",
       "    }\n",
       "\n",
       "    .dataframe tbody tr th {\n",
       "        vertical-align: top;\n",
       "    }\n",
       "\n",
       "    .dataframe thead th {\n",
       "        text-align: right;\n",
       "    }\n",
       "</style>\n",
       "<table border=\"1\" class=\"dataframe\">\n",
       "  <thead>\n",
       "    <tr style=\"text-align: right;\">\n",
       "      <th></th>\n",
       "      <th>_id</th>\n",
       "      <th>text</th>\n",
       "      <th>tokens</th>\n",
       "      <th>freq_list</th>\n",
       "    </tr>\n",
       "  </thead>\n",
       "  <tbody>\n",
       "    <tr>\n",
       "      <th>0</th>\n",
       "      <td>3</td>\n",
       "      <td>Nie mówię że nie podoba mi się też pomysł szko...</td>\n",
       "      <td>[nie, mówię, że, nie, podoba, mi, się, też, po...</td>\n",
       "      <td>{'nie': 5, 'mówię': 1, 'że': 3, 'podoba': 1, '...</td>\n",
       "    </tr>\n",
       "    <tr>\n",
       "      <th>1</th>\n",
       "      <td>31</td>\n",
       "      <td>Tak więc nic nie zapobiega fałszywym ocenom po...</td>\n",
       "      <td>[tak, więc, nic, nie, zapobiega, fałszywym, oc...</td>\n",
       "      <td>{'tak': 1, 'więc': 2, 'nic': 1, 'nie': 3, 'zap...</td>\n",
       "    </tr>\n",
       "    <tr>\n",
       "      <th>2</th>\n",
       "      <td>56</td>\n",
       "      <td>Nigdy nie możesz korzystać z FSA dla indywidua...</td>\n",
       "      <td>[nigdy, nie, możesz, korzystać, z, fsa, dla, i...</td>\n",
       "      <td>{'nigdy': 1, 'nie': 2, 'możesz': 2, 'korzystać...</td>\n",
       "    </tr>\n",
       "    <tr>\n",
       "      <th>3</th>\n",
       "      <td>59</td>\n",
       "      <td>Samsung stworzył LCD i inne technologie płaski...</td>\n",
       "      <td>[samsung, stworzył, lcd, i, inne, technologie,...</td>\n",
       "      <td>{'samsung': 3, 'stworzył': 1, 'lcd': 1, 'i': 3...</td>\n",
       "    </tr>\n",
       "    <tr>\n",
       "      <th>4</th>\n",
       "      <td>63</td>\n",
       "      <td>Oto wymagania SEC Federalne przepisy dotyczące...</td>\n",
       "      <td>[oto, wymagania, sec, federalne, przepisy, dot...</td>\n",
       "      <td>{'oto': 1, 'wymagania': 1, 'sec': 1, 'federaln...</td>\n",
       "    </tr>\n",
       "    <tr>\n",
       "      <th>...</th>\n",
       "      <td>...</td>\n",
       "      <td>...</td>\n",
       "      <td>...</td>\n",
       "      <td>...</td>\n",
       "    </tr>\n",
       "    <tr>\n",
       "      <th>57633</th>\n",
       "      <td>599946</td>\n",
       "      <td>Cóż po pierwsze drogi to coś więcej niż hobby...</td>\n",
       "      <td>[ , cóż, po, pierwsze, drogi, to, coś, więcej,...</td>\n",
       "      <td>{' ': 1, 'cóż': 1, 'po': 2, 'pierwsze': 1, 'dr...</td>\n",
       "    </tr>\n",
       "    <tr>\n",
       "      <th>57634</th>\n",
       "      <td>599953</td>\n",
       "      <td>Tak robią Na dotacje dla firm farmaceutycznych...</td>\n",
       "      <td>[tak, robią, na, dotacje, dla, firm, farmaceut...</td>\n",
       "      <td>{'tak': 1, 'robią': 1, 'na': 1, 'dotacje': 2, ...</td>\n",
       "    </tr>\n",
       "    <tr>\n",
       "      <th>57635</th>\n",
       "      <td>599966</td>\n",
       "      <td>To bardzo smutne że nie rozumiesz ludzkiej na...</td>\n",
       "      <td>[ , to, bardzo, smutne, że, nie, rozumiesz, lu...</td>\n",
       "      <td>{' ': 1, 'to': 3, 'bardzo': 1, 'smutne': 1, 'ż...</td>\n",
       "    </tr>\n",
       "    <tr>\n",
       "      <th>57636</th>\n",
       "      <td>599975</td>\n",
       "      <td>Czy Twój CTO pozwolił dużej grupie użyć admin...</td>\n",
       "      <td>[ , czy, twój, cto, pozwolił, dużej, grupie, u...</td>\n",
       "      <td>{' ': 1, 'czy': 3, 'twój': 1, 'cto': 2, 'pozwo...</td>\n",
       "    </tr>\n",
       "    <tr>\n",
       "      <th>57637</th>\n",
       "      <td>599987</td>\n",
       "      <td>Zapewnienie rządowi większej kontroli nad dyst...</td>\n",
       "      <td>[zapewnienie, rządowi, większej, kontroli, nad...</td>\n",
       "      <td>{'zapewnienie': 1, 'rządowi': 1, 'większej': 2...</td>\n",
       "    </tr>\n",
       "  </tbody>\n",
       "</table>\n",
       "<p>57638 rows × 4 columns</p>\n",
       "</div>"
      ],
      "text/plain": [
       "          _id                                               text  \\\n",
       "0           3  Nie mówię że nie podoba mi się też pomysł szko...   \n",
       "1          31  Tak więc nic nie zapobiega fałszywym ocenom po...   \n",
       "2          56  Nigdy nie możesz korzystać z FSA dla indywidua...   \n",
       "3          59  Samsung stworzył LCD i inne technologie płaski...   \n",
       "4          63  Oto wymagania SEC Federalne przepisy dotyczące...   \n",
       "...       ...                                                ...   \n",
       "57633  599946   Cóż po pierwsze drogi to coś więcej niż hobby...   \n",
       "57634  599953  Tak robią Na dotacje dla firm farmaceutycznych...   \n",
       "57635  599966   To bardzo smutne że nie rozumiesz ludzkiej na...   \n",
       "57636  599975   Czy Twój CTO pozwolił dużej grupie użyć admin...   \n",
       "57637  599987  Zapewnienie rządowi większej kontroli nad dyst...   \n",
       "\n",
       "                                                  tokens  \\\n",
       "0      [nie, mówię, że, nie, podoba, mi, się, też, po...   \n",
       "1      [tak, więc, nic, nie, zapobiega, fałszywym, oc...   \n",
       "2      [nigdy, nie, możesz, korzystać, z, fsa, dla, i...   \n",
       "3      [samsung, stworzył, lcd, i, inne, technologie,...   \n",
       "4      [oto, wymagania, sec, federalne, przepisy, dot...   \n",
       "...                                                  ...   \n",
       "57633  [ , cóż, po, pierwsze, drogi, to, coś, więcej,...   \n",
       "57634  [tak, robią, na, dotacje, dla, firm, farmaceut...   \n",
       "57635  [ , to, bardzo, smutne, że, nie, rozumiesz, lu...   \n",
       "57636  [ , czy, twój, cto, pozwolił, dużej, grupie, u...   \n",
       "57637  [zapewnienie, rządowi, większej, kontroli, nad...   \n",
       "\n",
       "                                               freq_list  \n",
       "0      {'nie': 5, 'mówię': 1, 'że': 3, 'podoba': 1, '...  \n",
       "1      {'tak': 1, 'więc': 2, 'nic': 1, 'nie': 3, 'zap...  \n",
       "2      {'nigdy': 1, 'nie': 2, 'możesz': 2, 'korzystać...  \n",
       "3      {'samsung': 3, 'stworzył': 1, 'lcd': 1, 'i': 3...  \n",
       "4      {'oto': 1, 'wymagania': 1, 'sec': 1, 'federaln...  \n",
       "...                                                  ...  \n",
       "57633  {' ': 1, 'cóż': 1, 'po': 2, 'pierwsze': 1, 'dr...  \n",
       "57634  {'tak': 1, 'robią': 1, 'na': 1, 'dotacje': 2, ...  \n",
       "57635  {' ': 1, 'to': 3, 'bardzo': 1, 'smutne': 1, 'ż...  \n",
       "57636  {' ': 1, 'czy': 3, 'twój': 1, 'cto': 2, 'pozwo...  \n",
       "57637  {'zapewnienie': 1, 'rządowi': 1, 'większej': 2...  \n",
       "\n",
       "[57638 rows x 4 columns]"
      ]
     },
     "execution_count": 16,
     "metadata": {},
     "output_type": "execute_result"
    }
   ],
   "source": [
    "df"
   ]
  },
  {
   "cell_type": "code",
   "execution_count": 19,
   "id": "ec5817c4-1222-4704-afd6-1b9e7ea0c9f2",
   "metadata": {},
   "outputs": [],
   "source": [
    "global_freq_list = Counter()\n",
    "\n",
    "# Count all dictionary elements in 'freq_list'\n",
    "for freq_dict in df['freq_list']:\n",
    "    global_freq_list.update(freq_dict)\n",
    "\n",
    "global_freq_list = dict(global_freq_list)\n",
    "global_freq_list = dict(sorted(global_freq_list.items(), key=lambda item: item[1], reverse=True))"
   ]
  },
  {
   "cell_type": "code",
   "execution_count": 20,
   "id": "74757f85-b736-465f-92d1-b8b3c7a30337",
   "metadata": {},
   "outputs": [
    {
     "data": {
      "text/plain": [
       "{'w': 175696,\n",
       " 'nie': 132040,\n",
       " 'i': 127191,\n",
       " 'na': 119136,\n",
       " 'to': 117734,\n",
       " 'z': 97166,\n",
       " 'jest': 93567,\n",
       " 'że': 90027,\n",
       " 'się': 85874,\n",
       " 'do': 66678}"
      ]
     },
     "execution_count": 20,
     "metadata": {},
     "output_type": "execute_result"
    }
   ],
   "source": [
    "from itertools import islice\n",
    "dict(islice(global_freq_list.items(), 10))"
   ]
  },
  {
   "cell_type": "code",
   "execution_count": 23,
   "id": "58da7854-690f-4785-857c-301660908cbb",
   "metadata": {},
   "outputs": [],
   "source": [
    "queries_df = pd.DataFrame(\n",
    "    [(int(row['_id']), row['text']) for row in ds_queries['queries']],\n",
    "    columns=['query_id', 'text']\n",
    ")\n",
    "# Query filtering for test query_id and sorting\n",
    "test_query_ids = set(ds_qa['query-id'])\n",
    "filtered_queries_df = queries_df[queries_df['query_id'].isin(test_query_ids)].sort_values(by=\"query_id\").reset_index(drop=True)"
   ]
  },
  {
   "cell_type": "code",
   "execution_count": 25,
   "id": "c0ddcc91-76ec-4c49-b0cd-8887b48eb21f",
   "metadata": {},
   "outputs": [
    {
     "data": {
      "text/html": [
       "<div>\n",
       "<style scoped>\n",
       "    .dataframe tbody tr th:only-of-type {\n",
       "        vertical-align: middle;\n",
       "    }\n",
       "\n",
       "    .dataframe tbody tr th {\n",
       "        vertical-align: top;\n",
       "    }\n",
       "\n",
       "    .dataframe thead th {\n",
       "        text-align: right;\n",
       "    }\n",
       "</style>\n",
       "<table border=\"1\" class=\"dataframe\">\n",
       "  <thead>\n",
       "    <tr style=\"text-align: right;\">\n",
       "      <th></th>\n",
       "      <th>query_id</th>\n",
       "      <th>text</th>\n",
       "    </tr>\n",
       "  </thead>\n",
       "  <tbody>\n",
       "    <tr>\n",
       "      <th>0</th>\n",
       "      <td>8</td>\n",
       "      <td>Jak zdeponować czek wystawiony na współpracown...</td>\n",
       "    </tr>\n",
       "    <tr>\n",
       "      <th>1</th>\n",
       "      <td>15</td>\n",
       "      <td>Czy mogę wysłać przekaz pieniężny z USPS jako ...</td>\n",
       "    </tr>\n",
       "    <tr>\n",
       "      <th>2</th>\n",
       "      <td>18</td>\n",
       "      <td>1 EIN prowadzący działalność pod wieloma nazwa...</td>\n",
       "    </tr>\n",
       "    <tr>\n",
       "      <th>3</th>\n",
       "      <td>26</td>\n",
       "      <td>Ubieganie się o kredyt biznesowy i otrzymywani...</td>\n",
       "    </tr>\n",
       "    <tr>\n",
       "      <th>4</th>\n",
       "      <td>34</td>\n",
       "      <td>401k Przelew po zamknięciu firmy</td>\n",
       "    </tr>\n",
       "    <tr>\n",
       "      <th>...</th>\n",
       "      <td>...</td>\n",
       "      <td>...</td>\n",
       "    </tr>\n",
       "    <tr>\n",
       "      <th>643</th>\n",
       "      <td>10979</td>\n",
       "      <td>Zamknięcie pozycji futures</td>\n",
       "    </tr>\n",
       "    <tr>\n",
       "      <th>644</th>\n",
       "      <td>10994</td>\n",
       "      <td>Strata netto nie podzielona przez fundusze inw...</td>\n",
       "    </tr>\n",
       "    <tr>\n",
       "      <th>645</th>\n",
       "      <td>11039</td>\n",
       "      <td>Spłać zadłużenie karty kredytowej lub zarób 40...</td>\n",
       "    </tr>\n",
       "    <tr>\n",
       "      <th>646</th>\n",
       "      <td>11054</td>\n",
       "      <td>Podatek od krótkoterminowych zysków kapitałowy...</td>\n",
       "    </tr>\n",
       "    <tr>\n",
       "      <th>647</th>\n",
       "      <td>11088</td>\n",
       "      <td>Czy wymagane jest, aby prawnik stworzył/nadzor...</td>\n",
       "    </tr>\n",
       "  </tbody>\n",
       "</table>\n",
       "<p>648 rows × 2 columns</p>\n",
       "</div>"
      ],
      "text/plain": [
       "     query_id                                               text\n",
       "0           8  Jak zdeponować czek wystawiony na współpracown...\n",
       "1          15  Czy mogę wysłać przekaz pieniężny z USPS jako ...\n",
       "2          18  1 EIN prowadzący działalność pod wieloma nazwa...\n",
       "3          26  Ubieganie się o kredyt biznesowy i otrzymywani...\n",
       "4          34                   401k Przelew po zamknięciu firmy\n",
       "..        ...                                                ...\n",
       "643     10979                         Zamknięcie pozycji futures\n",
       "644     10994  Strata netto nie podzielona przez fundusze inw...\n",
       "645     11039  Spłać zadłużenie karty kredytowej lub zarób 40...\n",
       "646     11054  Podatek od krótkoterminowych zysków kapitałowy...\n",
       "647     11088  Czy wymagane jest, aby prawnik stworzył/nadzor...\n",
       "\n",
       "[648 rows x 2 columns]"
      ]
     },
     "execution_count": 25,
     "metadata": {},
     "output_type": "execute_result"
    }
   ],
   "source": [
    "filtered_queries_df"
   ]
  },
  {
   "cell_type": "code",
   "execution_count": 26,
   "id": "29eea024-0f76-4593-8fad-c60b1e463137",
   "metadata": {},
   "outputs": [],
   "source": [
    "def distort_query(query):\n",
    "    words = query.split()\n",
    "    word_to_distort = random.choice(words)\n",
    "\n",
    "    pos = random.randint(0, len(word_to_distort) - 1)\n",
    "    original_letter = word_to_distort[pos]\n",
    "\n",
    "    alphabet = 'abcdefghijklmnopqrstuvwxyz'\n",
    "    new_letter = random.choice([c for c in alphabet if c != original_letter])\n",
    "    distorted_word = word_to_distort[:pos] + new_letter + word_to_distort[pos + 1:]\n",
    "\n",
    "    # replacing the word in the input query\n",
    "    distorted_query = query.replace(word_to_distort, distorted_word, 1)\n",
    "    return distorted_query"
   ]
  },
  {
   "cell_type": "code",
   "execution_count": 27,
   "id": "b3a1da37-a3a6-40cc-a4ef-2134ecfbff20",
   "metadata": {},
   "outputs": [],
   "source": [
    "filtered_queries_df['distorted'] = filtered_queries_df['text'].apply(distort_query)"
   ]
  },
  {
   "cell_type": "code",
   "execution_count": 29,
   "id": "f1498a65-c5f6-4a39-9fc5-6bfe94825984",
   "metadata": {},
   "outputs": [
    {
     "data": {
      "text/html": [
       "<div>\n",
       "<style scoped>\n",
       "    .dataframe tbody tr th:only-of-type {\n",
       "        vertical-align: middle;\n",
       "    }\n",
       "\n",
       "    .dataframe tbody tr th {\n",
       "        vertical-align: top;\n",
       "    }\n",
       "\n",
       "    .dataframe thead th {\n",
       "        text-align: right;\n",
       "    }\n",
       "</style>\n",
       "<table border=\"1\" class=\"dataframe\">\n",
       "  <thead>\n",
       "    <tr style=\"text-align: right;\">\n",
       "      <th></th>\n",
       "      <th>query_id</th>\n",
       "      <th>text</th>\n",
       "      <th>distorted</th>\n",
       "    </tr>\n",
       "  </thead>\n",
       "  <tbody>\n",
       "    <tr>\n",
       "      <th>0</th>\n",
       "      <td>8</td>\n",
       "      <td>Jak zdeponować czek wystawiony na współpracown...</td>\n",
       "      <td>Jak zdeponować czek wystawiony na współpracown...</td>\n",
       "    </tr>\n",
       "    <tr>\n",
       "      <th>1</th>\n",
       "      <td>15</td>\n",
       "      <td>Czy mogę wysłać przekaz pieniężny z USPS jako ...</td>\n",
       "      <td>Czy mogę wysłać przekaz pieniężny z oSPS jako ...</td>\n",
       "    </tr>\n",
       "    <tr>\n",
       "      <th>2</th>\n",
       "      <td>18</td>\n",
       "      <td>1 EIN prowadzący działalność pod wieloma nazwa...</td>\n",
       "      <td>l EIN prowadzący działalność pod wieloma nazwa...</td>\n",
       "    </tr>\n",
       "    <tr>\n",
       "      <th>3</th>\n",
       "      <td>26</td>\n",
       "      <td>Ubieganie się o kredyt biznesowy i otrzymywani...</td>\n",
       "      <td>Ubieganie się o kredyt biznesowy i otrzymywani...</td>\n",
       "    </tr>\n",
       "    <tr>\n",
       "      <th>4</th>\n",
       "      <td>34</td>\n",
       "      <td>401k Przelew po zamknięciu firmy</td>\n",
       "      <td>401k Przelew go zamknięciu firmy</td>\n",
       "    </tr>\n",
       "    <tr>\n",
       "      <th>...</th>\n",
       "      <td>...</td>\n",
       "      <td>...</td>\n",
       "      <td>...</td>\n",
       "    </tr>\n",
       "    <tr>\n",
       "      <th>643</th>\n",
       "      <td>10979</td>\n",
       "      <td>Zamknięcie pozycji futures</td>\n",
       "      <td>Zaaknięcie pozycji futures</td>\n",
       "    </tr>\n",
       "    <tr>\n",
       "      <th>644</th>\n",
       "      <td>10994</td>\n",
       "      <td>Strata netto nie podzielona przez fundusze inw...</td>\n",
       "      <td>Strata netto nie podzielona przez fundgsze inw...</td>\n",
       "    </tr>\n",
       "    <tr>\n",
       "      <th>645</th>\n",
       "      <td>11039</td>\n",
       "      <td>Spłać zadłużenie karty kredytowej lub zarób 40...</td>\n",
       "      <td>Spłać zadłużenie karts kredytowej lub zarób 40...</td>\n",
       "    </tr>\n",
       "    <tr>\n",
       "      <th>646</th>\n",
       "      <td>11054</td>\n",
       "      <td>Podatek od krótkoterminowych zysków kapitałowy...</td>\n",
       "      <td>Podatek od krótkoterminowych zksków kapitałowy...</td>\n",
       "    </tr>\n",
       "    <tr>\n",
       "      <th>647</th>\n",
       "      <td>11088</td>\n",
       "      <td>Czy wymagane jest, aby prawnik stworzył/nadzor...</td>\n",
       "      <td>Czy wymagane jest, aby prawnik stworzył/nodzor...</td>\n",
       "    </tr>\n",
       "  </tbody>\n",
       "</table>\n",
       "<p>648 rows × 3 columns</p>\n",
       "</div>"
      ],
      "text/plain": [
       "     query_id                                               text  \\\n",
       "0           8  Jak zdeponować czek wystawiony na współpracown...   \n",
       "1          15  Czy mogę wysłać przekaz pieniężny z USPS jako ...   \n",
       "2          18  1 EIN prowadzący działalność pod wieloma nazwa...   \n",
       "3          26  Ubieganie się o kredyt biznesowy i otrzymywani...   \n",
       "4          34                   401k Przelew po zamknięciu firmy   \n",
       "..        ...                                                ...   \n",
       "643     10979                         Zamknięcie pozycji futures   \n",
       "644     10994  Strata netto nie podzielona przez fundusze inw...   \n",
       "645     11039  Spłać zadłużenie karty kredytowej lub zarób 40...   \n",
       "646     11054  Podatek od krótkoterminowych zysków kapitałowy...   \n",
       "647     11088  Czy wymagane jest, aby prawnik stworzył/nadzor...   \n",
       "\n",
       "                                             distorted  \n",
       "0    Jak zdeponować czek wystawiony na współpracown...  \n",
       "1    Czy mogę wysłać przekaz pieniężny z oSPS jako ...  \n",
       "2    l EIN prowadzący działalność pod wieloma nazwa...  \n",
       "3    Ubieganie się o kredyt biznesowy i otrzymywani...  \n",
       "4                     401k Przelew go zamknięciu firmy  \n",
       "..                                                 ...  \n",
       "643                         Zaaknięcie pozycji futures  \n",
       "644  Strata netto nie podzielona przez fundgsze inw...  \n",
       "645  Spłać zadłużenie karts kredytowej lub zarób 40...  \n",
       "646  Podatek od krótkoterminowych zksków kapitałowy...  \n",
       "647  Czy wymagane jest, aby prawnik stworzył/nodzor...  \n",
       "\n",
       "[648 rows x 3 columns]"
      ]
     },
     "execution_count": 29,
     "metadata": {},
     "output_type": "execute_result"
    }
   ],
   "source": [
    "filtered_queries_df"
   ]
  },
  {
   "cell_type": "code",
   "execution_count": 30,
   "id": "9e3e5e71-aeea-45ba-91fa-5f8ae4ec3d42",
   "metadata": {},
   "outputs": [],
   "source": [
    "distorted_queries = OrderedDict(filtered_queries_df[['query_id', 'distorted']].values)"
   ]
  },
  {
   "cell_type": "code",
   "execution_count": 32,
   "id": "86e90dce-067c-4dd6-b7e3-0119d6e7d716",
   "metadata": {},
   "outputs": [],
   "source": [
    "def search_text(index_name: str, queries: dict, k: int):\n",
    "\n",
    "    model_results = [[] for _ in range(4)] \n",
    "    \n",
    "    for query_id, query_text in queries.items():\n",
    "        search_bodies = [\n",
    "            {\n",
    "                \"query\": {\n",
    "                    \"multi_match\": {\n",
    "                        \"query\": query_text,\n",
    "                        \"fields\": [\"with_synonyms_with_lemmatizer\"]\n",
    "                    }\n",
    "                },\n",
    "                \"size\": k\n",
    "            },\n",
    "            {\n",
    "                \"query\": {\n",
    "                    \"multi_match\": {\n",
    "                        \"query\": query_text,\n",
    "                        \"fields\": [\"without_synonyms_with_lemmatizer\"]\n",
    "                    }\n",
    "                },\n",
    "                \"size\": k\n",
    "            },\n",
    "            {\n",
    "                \"query\": {\n",
    "                    \"multi_match\": {\n",
    "                        \"query\": query_text,\n",
    "                        \"fields\": [\"with_synonyms_without_lemmatizer\"]\n",
    "                    }\n",
    "                },\n",
    "                \"size\": k\n",
    "            },\n",
    "            {\n",
    "                \"query\": {\n",
    "                    \"multi_match\": {\n",
    "                        \"query\": query_text,\n",
    "                        \"fields\": [\"without_synonyms_without_lemmatizer\"]\n",
    "                    }\n",
    "                },\n",
    "                \"size\": k\n",
    "            }\n",
    "        ]\n",
    "    \n",
    "        # Wykonujemy zapytanie dla każdego analyzera i zapisujemy wyniki do odpowiedniej listy\n",
    "        for i, search_body in enumerate(search_bodies):\n",
    "            response = client.search(index=index_name, body=search_body)\n",
    "            \n",
    "            for hit in response['hits']['hits']:\n",
    "                model_results[i].append({\n",
    "                    'query-id': query_id,\n",
    "                    'corpus-id': int(hit['_id']),\n",
    "                    'analyzer': i\n",
    "                })\n",
    "\n",
    "    return model_results"
   ]
  },
  {
   "cell_type": "code",
   "execution_count": 33,
   "id": "40503f00-e5bb-4037-bbd6-ab174357ab72",
   "metadata": {},
   "outputs": [],
   "source": [
    "search_results = search_text(\"fiqa_pl_index_v3\", distorted_queries, 10)"
   ]
  },
  {
   "cell_type": "code",
   "execution_count": 36,
   "id": "3c9a1030-56ee-476e-8c76-7f84d9ee1e27",
   "metadata": {},
   "outputs": [],
   "source": [
    "def get_DCG(relevance_scores, k):\n",
    "    return sum(rel / math.log(idx + 2, 2) for idx, rel in enumerate(relevance_scores[:k]))\n",
    "\n",
    "def get_NDCG(model_results, relevant_documents, k):\n",
    "\n",
    "    relevance_scores = [1 if doc['corpus-id'] in relevant_documents else 0 for doc in model_results]\n",
    "    dcg_k = get_DCG(relevance_scores, k)\n",
    "\n",
    "    num_docs = len(relevant_documents)\n",
    "    ideal_relevance_scores = [1] * min(num_docs, k) + [0] * (k - min(num_docs, k))\n",
    "    idcg_k = get_DCG(ideal_relevance_scores, k)\n",
    "\n",
    "    ndcg_k = dcg_k / idcg_k if idcg_k > 0 else 0\n",
    "    return ndcg_k"
   ]
  },
  {
   "cell_type": "code",
   "execution_count": 39,
   "id": "689341d7-df48-499f-8264-f7cc2ce6aa33",
   "metadata": {},
   "outputs": [],
   "source": [
    "correct_results = defaultdict(list)\n",
    "\n",
    "for entry in ds_qa:\n",
    "    query_id = entry['query-id']\n",
    "    corpus_id = entry['corpus-id']\n",
    "    correct_results[query_id].append(corpus_id)\n",
    "\n",
    "correct_list = [{'query-id': query_id, 'corpuses-id': corpuses} for query_id, corpuses in correct_results.items()]"
   ]
  },
  {
   "cell_type": "code",
   "execution_count": 40,
   "id": "40b8fc3b-7ee8-4bd2-a4ab-22e37974275d",
   "metadata": {},
   "outputs": [],
   "source": [
    "ndcgs = []\n",
    "k=10\n",
    "\n",
    "for j in range(len(search_results)):\n",
    "    results = []\n",
    "    for i in range(len(correct_list)):\n",
    "        ndcg = get_NDCG(search_results[j][i*k:(i+1)*k], correct_list[i]['corpuses-id'], k)\n",
    "        results.append((correct_list[i]['query-id'], float(ndcg)))\n",
    "\n",
    "    ndcgs.append(results)"
   ]
  },
  {
   "cell_type": "markdown",
   "id": "7f0ed16a-564f-4ff1-bfca-94ff2f8505d6",
   "metadata": {},
   "source": [
    "0 - with synonyms with lemmatizer\n",
    "\n",
    "1 - without synonyms with lemmatizer\n",
    "\n",
    "2 - with synonyms without lemmatizer\n",
    "\n",
    "3 - without synonyms without lemmatizer\n"
   ]
  },
  {
   "cell_type": "code",
   "execution_count": 41,
   "id": "8adf558d-c572-43ac-abed-530f3f2abe06",
   "metadata": {},
   "outputs": [
    {
     "name": "stdout",
     "output_type": "stream",
     "text": [
      "0: 18.28 %\n",
      "1: 18.2 %\n",
      "2: 14.23 %\n",
      "3: 14.16 %\n"
     ]
    }
   ],
   "source": [
    "for i in range(len(ndcgs)):\n",
    "    avg = sum(value for _, value in ndcgs[i]) / len(ndcgs[i])\n",
    "    print(f\"{i}: {round(avg*100,2)} %\")"
   ]
  },
  {
   "cell_type": "markdown",
   "id": "8c685b2e-add4-4719-b53d-084f9376afd6",
   "metadata": {},
   "source": [
    "Without the lemmatizer it is even a little better than in previous lab - However, in addition to introducing typos, we counted NDCG10 instead of NDCG5"
   ]
  },
  {
   "cell_type": "code",
   "execution_count": 42,
   "id": "e5976b23-15c7-41c3-976e-1a0bbcc958bf",
   "metadata": {},
   "outputs": [],
   "source": [
    "from morfeusz2 import Morfeusz\n",
    "morfeusz = Morfeusz()"
   ]
  },
  {
   "cell_type": "code",
   "execution_count": 43,
   "id": "aff599c5-b73e-47ba-88c6-e3164794a134",
   "metadata": {},
   "outputs": [],
   "source": [
    "def find_words(text):  # Finds words not in the dictionary\n",
    "    analysis = morfeusz.analyse(text)\n",
    "    words = []\n",
    "\n",
    "    for result in analysis:\n",
    "        if result[2][2] == 'ign':\n",
    "            words.append(result[2][0])\n",
    "    return words\n",
    "\n",
    "words = []\n",
    "for id, query in distorted_queries.items():\n",
    "    words.extend(find_words(query))  # Use extend to add each word directly to the list"
   ]
  },
  {
   "cell_type": "code",
   "execution_count": 76,
   "id": "fcf4db4d-d7d2-4f92-8f81-f4e9ce7e753c",
   "metadata": {},
   "outputs": [
    {
     "data": {
      "text/plain": [
       "['kojto',\n",
       " 'oSPS',\n",
       " 'EIN',\n",
       " 'ao',\n",
       " 'sprzttu',\n",
       " 'zairudnić',\n",
       " 'podzegającej',\n",
       " 'wystawioyy',\n",
       " 'corp',\n",
       " 'podhtku',\n",
       " 'piewiędzmi',\n",
       " 'gyceny',\n",
       " 'zaromione',\n",
       " 'nuseru',\n",
       " 'EIN',\n",
       " 'LLC',\n",
       " 'doiyczących',\n",
       " 'złc',\n",
       " 'fiiansowa',\n",
       " 'LLC']"
      ]
     },
     "execution_count": 76,
     "metadata": {},
     "output_type": "execute_result"
    }
   ],
   "source": [
    "words[:20]"
   ]
  },
  {
   "cell_type": "code",
   "execution_count": 45,
   "id": "6e18040f-9196-4908-90b2-97b9257af12f",
   "metadata": {},
   "outputs": [],
   "source": [
    "def levenshtein_distance(s1, s2):\n",
    "    len_s1, len_s2 = len(s1), len(s2)\n",
    "    dp = [[0] * (len_s2 + 1) for _ in range(len_s1 + 1)]\n",
    "\n",
    "    for i in range(len_s1 + 1):\n",
    "        dp[i][0] = i\n",
    "    for j in range(len_s2 + 1):\n",
    "        dp[0][j] = j\n",
    "\n",
    "    for i in range(1, len_s1 + 1):\n",
    "        for j in range(1, len_s2 + 1):\n",
    "            cost = 0 if s1[i - 1] == s2[j - 1] else 1\n",
    "            dp[i][j] = min(dp[i - 1][j] + 1,     # deletion\n",
    "                           dp[i][j - 1] + 1,     # insertion\n",
    "                           dp[i - 1][j - 1] + cost)  # substitution\n",
    "\n",
    "    return dp[len_s1][len_s2]"
   ]
  },
  {
   "cell_type": "markdown",
   "id": "95d3cf17-6a4e-470b-89a8-b9c99fed38bd",
   "metadata": {},
   "source": [
    "Following function finds the most probable correction for a word using a frequency list. max_distance is the maximum Levenshtein distance to consider for potential correction."
   ]
  },
  {
   "cell_type": "code",
   "execution_count": 46,
   "id": "615b8b63-04a3-43e5-b763-ad4a3b90ba51",
   "metadata": {},
   "outputs": [],
   "source": [
    "def correct_word(word, frequency_list, max_distance=2):\n",
    "    possible_corrections = []\n",
    "    \n",
    "    # Filtering words by length similarity for efficiency\n",
    "    for candidate in frequency_list:\n",
    "        if abs(len(candidate) - len(word)) <= max_distance:\n",
    "            distance = levenshtein_distance(word, candidate)\n",
    "            if distance <= max_distance:\n",
    "                possible_corrections.append((candidate, distance, frequency_list[candidate]))\n",
    "\n",
    "    # Sorting by distance, then by frequency\n",
    "    possible_corrections.sort(key=lambda x: (x[1], -x[2]))\n",
    "\n",
    "    # Returning the most probable correction if any candidates were found\n",
    "    return possible_corrections[0][0] if possible_corrections else word"
   ]
  },
  {
   "cell_type": "code",
   "execution_count": 49,
   "id": "861ebcf1-11bd-4834-995d-57a4612adc16",
   "metadata": {},
   "outputs": [],
   "source": [
    "corrected_words = []"
   ]
  },
  {
   "cell_type": "code",
   "execution_count": 50,
   "id": "1d39d895-32c1-4d50-a6ca-bfe1b2e61106",
   "metadata": {},
   "outputs": [],
   "source": [
    "for word in words:\n",
    "    corrected_word = correct_word(word, global_freq_list)\n",
    "    corrected_words.append(corrected_word)"
   ]
  },
  {
   "cell_type": "code",
   "execution_count": 51,
   "id": "d4925d70-d594-4855-9d22-0d2994a72a83",
   "metadata": {},
   "outputs": [],
   "source": [
    "corrected_zip = dict(zip(words, corrected_words))"
   ]
  },
  {
   "cell_type": "code",
   "execution_count": 54,
   "id": "ede0bb68-ade4-4fa7-bd21-00772f6ac5cd",
   "metadata": {},
   "outputs": [
    {
     "data": {
      "text/plain": [
       "{'kojto': 'konto',\n",
       " 'oSPS': 'oSPS',\n",
       " 'EIN': 'EIN',\n",
       " 'ao': 'ao',\n",
       " 'sprzttu': 'sprzętu',\n",
       " 'zairudnić': 'zatrudnić',\n",
       " 'podzegającej': 'podlegającej',\n",
       " 'wystawioyy': 'wystawiony',\n",
       " 'corp': 'corp',\n",
       " 'podhtku': 'podatku',\n",
       " 'piewiędzmi': 'pieniędzmi',\n",
       " 'gyceny': 'wyceny',\n",
       " 'zaromione': 'zarobione',\n",
       " 'nuseru': 'numeru',\n",
       " 'LLC': 'LLC',\n",
       " 'doiyczących': 'dotyczących',\n",
       " 'złc': 'złe',\n",
       " 'fiiansowa': 'finansowa',\n",
       " 'LLw': 'w',\n",
       " 'Direct': 'direct'}"
      ]
     },
     "execution_count": 54,
     "metadata": {},
     "output_type": "execute_result"
    }
   ],
   "source": [
    "dict(islice(corrected_zip.items(), 20))"
   ]
  },
  {
   "cell_type": "code",
   "execution_count": 55,
   "id": "4fa7dc02-6aef-411a-ac4d-795cfadd2e5c",
   "metadata": {},
   "outputs": [],
   "source": [
    "def repair_queries(queries):\n",
    "    corrected_queries = queries.copy()\n",
    "    for id, query in queries.items():\n",
    "\n",
    "        dis_words = find_words(query) # searching icnorrect words in query\n",
    "        text_tokens = corrected_queries[id].split()\n",
    "        corrected_tokens = [corrected_zip[word] if word in dis_words else word for word in text_tokens] # replace word with corrected\n",
    "        corrected_queries[id] = \" \".join(corrected_tokens)\n",
    "\n",
    "    return corrected_queries"
   ]
  },
  {
   "cell_type": "code",
   "execution_count": 56,
   "id": "29c729f3-9410-49b7-bd8a-e40a12f3137a",
   "metadata": {},
   "outputs": [],
   "source": [
    "corrected_queries = repair_queries(distorted_queries)"
   ]
  },
  {
   "cell_type": "code",
   "execution_count": 57,
   "id": "8f57dc35-150d-4967-9af8-3710454ec494",
   "metadata": {},
   "outputs": [
    {
     "data": {
      "text/plain": [
       "{8: 'Jak zdeponować czek wystawiony na współpracownika w mojej firmie na moje kojto firmowe?',\n",
       " 15: 'Czy mogę wysłać przekaz pieniężny z oSPS jako firma?',\n",
       " 18: 'l EIN prowadzący działalność pod wieloma nazwami firm',\n",
       " 26: 'Ubieganie się o kredyt biznesowy i otrzymywanie ao',\n",
       " 34: '401k Przelew go zamknięciu firmy',\n",
       " 42: 'Jakie są tajniki zakupu sprzttu do pisania jako wydatki biznesowe w firmie domowej?',\n",
       " 56: 'Czy przedsiębiorca może zairudnić samozatrudnionego właściciela firmy?',\n",
       " 68: 'Intencje dotyczące kwoty podzegającej odliczeniu dla małych firm',\n",
       " 89: 'Jak mogę wpłacić czek wystawioyy na moją firmę na moje konto osobiste?',\n",
       " 90: 'Składanie osobiste e 1099s kontra s-corp biznesowy?'}"
      ]
     },
     "execution_count": 57,
     "metadata": {},
     "output_type": "execute_result"
    }
   ],
   "source": [
    "dict(islice(distorted_queries.items(), 10))"
   ]
  },
  {
   "cell_type": "code",
   "execution_count": 58,
   "id": "f3ebdf38-57dc-439b-b116-a4bd5200c319",
   "metadata": {},
   "outputs": [
    {
     "data": {
      "text/plain": [
       "{8: 'Jak zdeponować czek wystawiony na współpracownika w mojej firmie na moje konto firmowe?',\n",
       " 15: 'Czy mogę wysłać przekaz pieniężny z oSPS jako firma?',\n",
       " 18: 'l EIN prowadzący działalność pod wieloma nazwami firm',\n",
       " 26: 'Ubieganie się o kredyt biznesowy i otrzymywanie ao',\n",
       " 34: '401k Przelew go zamknięciu firmy',\n",
       " 42: 'Jakie są tajniki zakupu sprzętu do pisania jako wydatki biznesowe w firmie domowej?',\n",
       " 56: 'Czy przedsiębiorca może zatrudnić samozatrudnionego właściciela firmy?',\n",
       " 68: 'Intencje dotyczące kwoty podlegającej odliczeniu dla małych firm',\n",
       " 89: 'Jak mogę wpłacić czek wystawiony na moją firmę na moje konto osobiste?',\n",
       " 90: 'Składanie osobiste e 1099s kontra s-corp biznesowy?'}"
      ]
     },
     "execution_count": 58,
     "metadata": {},
     "output_type": "execute_result"
    }
   ],
   "source": [
    "dict(islice(corrected_queries.items(), 10))"
   ]
  },
  {
   "cell_type": "code",
   "execution_count": 59,
   "id": "cd0c9849-6a30-48d8-8ebc-ebfcb710f73a",
   "metadata": {},
   "outputs": [],
   "source": [
    "corrected_search_results = search_text(\"fiqa_pl_index_v3\", corrected_queries, 10)"
   ]
  },
  {
   "cell_type": "code",
   "execution_count": 61,
   "id": "5cf41af8-5fb8-41fd-86af-507ce13335bd",
   "metadata": {},
   "outputs": [],
   "source": [
    "# corrected_search_results "
   ]
  },
  {
   "cell_type": "code",
   "execution_count": 60,
   "id": "b08309c9-466b-4df8-97ca-acad8642f084",
   "metadata": {},
   "outputs": [],
   "source": [
    "ndcgs = []\n",
    "k=10\n",
    "\n",
    "for j in range(len(corrected_search_results)):\n",
    "    results = []\n",
    "    for i in range(len(correct_list)):\n",
    "        ndcg = get_NDCG(corrected_search_results[j][i*k:(i+1)*k], correct_list[i]['corpuses-id'], k)\n",
    "        results.append((correct_list[i]['query-id'], float(ndcg)))\n",
    "\n",
    "    ndcgs.append(results)"
   ]
  },
  {
   "cell_type": "markdown",
   "id": "ed643637-83da-4e2b-bd05-9dbc878d4dfa",
   "metadata": {},
   "source": [
    "0 - with synonyms with lemmatizer\n",
    "\n",
    "1 - without synonyms with lemmatizer\n",
    "\n",
    "2 - with synonyms without lemmatizer\n",
    "\n",
    "3 - without synonyms without lemmatizer"
   ]
  },
  {
   "cell_type": "code",
   "execution_count": 62,
   "id": "270b2980-de96-4a62-97aa-804b43fa830c",
   "metadata": {},
   "outputs": [
    {
     "name": "stdout",
     "output_type": "stream",
     "text": [
      "0: 19.53 %\n",
      "1: 19.46 %\n",
      "2: 14.57 %\n",
      "3: 14.56 %\n"
     ]
    }
   ],
   "source": [
    "for i in range(len(ndcgs)):\n",
    "    avg = sum(value for _, value in ndcgs[i]) / len(ndcgs[i])\n",
    "    print(f\"{i}: {round(avg*100,2)} %\")"
   ]
  },
  {
   "cell_type": "markdown",
   "id": "c2776f14-1be0-40c2-a479-291d139560d0",
   "metadata": {},
   "source": [
    "Zauważamy poprawę!!!"
   ]
  },
  {
   "cell_type": "code",
   "execution_count": 63,
   "id": "241abccd-662a-49e2-b53b-c22ba939223c",
   "metadata": {},
   "outputs": [],
   "source": [
    "def search_text_fuzzy(index_name: str, queries: dict, k: int):\n",
    "\n",
    "    model_results = [[] for _ in range(4)] \n",
    "    \n",
    "    for query_id, query_text in queries.items():\n",
    "        search_bodies = [\n",
    "            {\n",
    "                \"query\": {\n",
    "                    \"multi_match\": {\n",
    "                        \"query\": query_text,\n",
    "                        \"fields\": [\"with_synonyms_with_lemmatizer\"],\n",
    "                        \"fuzziness\": \"AUTO\"\n",
    "                    }\n",
    "                },\n",
    "                \"size\": k\n",
    "            },\n",
    "            {\n",
    "                \"query\": {\n",
    "                    \"multi_match\": {\n",
    "                        \"query\": query_text,\n",
    "                        \"fields\": [\"without_synonyms_with_lemmatizer\"],\n",
    "                        \"fuzziness\": \"AUTO\"\n",
    "                    }\n",
    "                },\n",
    "                \"size\": k\n",
    "            },\n",
    "            {\n",
    "                \"query\": {\n",
    "                    \"multi_match\": {\n",
    "                        \"query\": query_text,\n",
    "                        \"fields\": [\"with_synonyms_without_lemmatizer\"],\n",
    "                        \"fuzziness\": \"AUTO\"\n",
    "                    }\n",
    "                },\n",
    "                \"size\": k\n",
    "            },\n",
    "            {\n",
    "                \"query\": {\n",
    "                    \"multi_match\": {\n",
    "                        \"query\": query_text,\n",
    "                        \"fields\": [\"without_synonyms_without_lemmatizer\"],\n",
    "                        \"fuzziness\": \"AUTO\"\n",
    "                    }\n",
    "                },\n",
    "                \"size\": k\n",
    "            }\n",
    "        ]\n",
    "    \n",
    "        # Wykonujemy zapytanie dla każdego analyzera i zapisujemy wyniki do odpowiedniej listy\n",
    "        for i, search_body in enumerate(search_bodies):\n",
    "            response = client.search(index=index_name, body=search_body)\n",
    "            \n",
    "            for hit in response['hits']['hits']:\n",
    "                model_results[i].append({\n",
    "                    'query-id': query_id,\n",
    "                    'corpus-id': int(hit['_id']),\n",
    "                    'analyzer': i\n",
    "                })\n",
    "\n",
    "    return model_results"
   ]
  },
  {
   "cell_type": "code",
   "execution_count": 73,
   "id": "81b36e90-79a5-42bc-9933-d76281f550a1",
   "metadata": {},
   "outputs": [],
   "source": [
    "fuzzy_search_results = search_text_fuzzy(\"fiqa_pl_index_v3\", distorted_queries, 10)"
   ]
  },
  {
   "cell_type": "code",
   "execution_count": 74,
   "id": "1d8feac2-5105-4079-b1e3-292172e2b47c",
   "metadata": {},
   "outputs": [],
   "source": [
    "ndcgs = []\n",
    "k=10\n",
    "\n",
    "for j in range(len(fuzzy_search_results)):\n",
    "    results = []\n",
    "    for i in range(len(correct_list)):\n",
    "        ndcg = get_NDCG(fuzzy_search_results[j][i*k:(i+1)*k], correct_list[i]['corpuses-id'], k)\n",
    "        results.append((correct_list[i]['query-id'], float(ndcg)))\n",
    "\n",
    "    ndcgs.append(results)"
   ]
  },
  {
   "cell_type": "code",
   "execution_count": 75,
   "id": "c2d17b24-8793-4ce4-af66-5fa453854442",
   "metadata": {},
   "outputs": [
    {
     "name": "stdout",
     "output_type": "stream",
     "text": [
      "0: 16.43 %\n",
      "1: 16.45 %\n",
      "2: 14.28 %\n",
      "3: 14.3 %\n"
     ]
    }
   ],
   "source": [
    "for i in range(len(ndcgs)):\n",
    "    avg = sum(value for _, value in ndcgs[i]) / len(ndcgs[i])\n",
    "    print(f\"{i}: {round(avg*100,2)} %\")"
   ]
  },
  {
   "cell_type": "code",
   "execution_count": 71,
   "id": "311dbb92-c378-4e21-8ae7-334a36eb535c",
   "metadata": {},
   "outputs": [
    {
     "data": {
      "text/plain": [
       "170051"
      ]
     },
     "execution_count": 71,
     "metadata": {},
     "output_type": "execute_result"
    }
   ],
   "source": [
    "len(global_freq_list)"
   ]
  },
  {
   "cell_type": "code",
   "execution_count": 72,
   "id": "6da1d579-beb3-4800-87dd-73dd40f8ef5e",
   "metadata": {},
   "outputs": [
    {
     "data": {
      "text/plain": [
       "{'w': 175696,\n",
       " 'nie': 132040,\n",
       " 'i': 127191,\n",
       " 'na': 119136,\n",
       " 'to': 117734,\n",
       " 'z': 97166,\n",
       " 'jest': 93567,\n",
       " 'że': 90027,\n",
       " 'się': 85874,\n",
       " 'do': 66678,\n",
       " 'jeśli': 52287,\n",
       " 'a': 42203,\n",
       " 'ale': 41350,\n",
       " 'o': 38284,\n",
       " 'są': 35525,\n",
       " 'jak': 33699,\n",
       " 'lub': 33260,\n",
       " 'za': 32380,\n",
       " 'aby': 31077,\n",
       " 'co': 29956,\n",
       " 'od': 29890,\n",
       " 'może': 26450,\n",
       " 'po': 25750,\n",
       " 'tak': 25696,\n",
       " 'dla': 25514,\n",
       " 'które': 23984,\n",
       " 'możesz': 23427,\n",
       " 'tego': 21958,\n",
       " 'tym': 21611,\n",
       " 'czy': 20335,\n",
       " 'ma': 20310,\n",
       " 'być': 19275,\n",
       " 'ponieważ': 18969,\n",
       " 'przez': 17869,\n",
       " 'usd': 17626,\n",
       " 'tylko': 17275,\n",
       " 'więc': 17201,\n",
       " 'niż': 16833,\n",
       " ' ': 16739,\n",
       " 'ich': 14628,\n",
       " 'pieniądze': 14021,\n",
       " 'więcej': 13912,\n",
       " 'gdy': 13556,\n",
       " 'jako': 12995,\n",
       " 'pieniędzy': 12289,\n",
       " 'który': 12151,\n",
       " 'masz': 11776,\n",
       " 'będzie': 11728,\n",
       " 'mogą': 11710,\n",
       " '1': 11096,\n",
       " 'firmy': 10755,\n",
       " 'również': 10560,\n",
       " 'akcji': 10427,\n",
       " 'bardzo': 10198,\n",
       " 'ci': 10030,\n",
       " 'prostu': 9782,\n",
       " 'nawet': 9778,\n",
       " 'lat': 9522,\n",
       " 'mają': 9324,\n",
       " 'wiele': 9240,\n",
       " 'ten': 9028,\n",
       " 'te': 8803,\n",
       " 'com': 8683,\n",
       " 'ze': 8620,\n",
       " 'kiedy': 8620,\n",
       " 'bez': 8293,\n",
       " 'akcje': 8165,\n",
       " 'teraz': 8151,\n",
       " 'prawdopodobnie': 8063,\n",
       " 'roku': 8057,\n",
       " 'jesteś': 8031,\n",
       " '10': 7887,\n",
       " 'ludzie': 7869,\n",
       " 'bardziej': 7785,\n",
       " 'przypadku': 7781,\n",
       " 'naprawdę': 7749,\n",
       " '2': 7687,\n",
       " 'która': 7680,\n",
       " 'twoje': 7593,\n",
       " 'dolarów': 7574,\n",
       " '000': 7501,\n",
       " 'można': 7487,\n",
       " 'sposób': 7460,\n",
       " 'pracy': 7301,\n",
       " 'go': 7243,\n",
       " 'tych': 7173,\n",
       " 'sobie': 7159,\n",
       " 'musisz': 7157,\n",
       " '5': 7121,\n",
       " 'będziesz': 6969,\n",
       " 'je': 6859,\n",
       " 'chcesz': 6842,\n",
       " 'tej': 6788,\n",
       " 'jestem': 6788,\n",
       " 'mieć': 6774,\n",
       " 'jednak': 6716,\n",
       " 'r': 6692,\n",
       " 'pod': 6616,\n",
       " 'twój': 6614,\n",
       " 'http': 6537,\n",
       " 'nadal': 6526,\n",
       " 'już': 6523,\n",
       " 'rzeczy': 6450,\n",
       " 'firma': 6384,\n",
       " 'którzy': 6353,\n",
       " '3': 6332,\n",
       " 'których': 6310,\n",
       " 'wszystkie': 6286,\n",
       " 'kilka': 6227,\n",
       " 'będą': 6152,\n",
       " 'wartość': 6025,\n",
       " 'mniej': 6013,\n",
       " 'swoje': 5885,\n",
       " 'wszystko': 5813,\n",
       " 'rynku': 5769,\n",
       " 'ludzi': 5767,\n",
       " 'przed': 5710,\n",
       " 'stanie': 5706,\n",
       " 'wartości': 5650,\n",
       " 'oznacza': 5557,\n",
       " 'większość': 5556,\n",
       " 'mi': 5500,\n",
       " 'innych': 5449,\n",
       " '100': 5449,\n",
       " 'coś': 5442,\n",
       " 'usa': 5377,\n",
       " 'mam': 5336,\n",
       " 'inne': 5317,\n",
       " 'było': 5268,\n",
       " 'zrobić': 5246,\n",
       " 'przykład': 5169,\n",
       " 'następnie': 5161,\n",
       " 'ceny': 5078,\n",
       " 'konto': 4993,\n",
       " 'itp': 4992,\n",
       " 'takie': 4990,\n",
       " 'przy': 4983,\n",
       " 'jego': 4976,\n",
       " 'ile': 4956,\n",
       " 'domu': 4948,\n",
       " 'czasu': 4923,\n",
       " 'www': 4910,\n",
       " 'którym': 4899,\n",
       " 'wielu': 4894,\n",
       " 'znacznie': 4851,\n",
       " 'myślę': 4775,\n",
       " 'nigdy': 4670,\n",
       " 'był': 4570,\n",
       " 'istnieje': 4553,\n",
       " 'dlaczego': 4545}"
      ]
     },
     "execution_count": 72,
     "metadata": {},
     "output_type": "execute_result"
    }
   ],
   "source": [
    "dict(islice(global_freq_list.items(), 150))"
   ]
  },
  {
   "cell_type": "markdown",
   "id": "d8b0bfea-f981-4186-b18a-87a335d11ff0",
   "metadata": {},
   "source": [
    "## Draw conclusions regarding:"
   ]
  },
  {
   "cell_type": "markdown",
   "id": "f4e61aba-7143-41cc-bb9b-cbe3bce9a004",
   "metadata": {},
   "source": [
    "### The distribution of words in the corpus,"
   ]
  },
  {
   "cell_type": "markdown",
   "id": "e0519c99-ad6b-4d4b-a6ab-2295a04468cd",
   "metadata": {},
   "source": [
    "The most frequently occurring words are short, common words often used in sentence construction (\"w\", \"nie\", \"i\", ...). As the word frequencies decrease, we see an increase in more content-specific words, such as \"pieniądze\", \"firma\", and \"akcje\". It suggests that texts likely includes a lot of texts related to finance and business. "
   ]
  },
  {
   "cell_type": "markdown",
   "id": "811b0a01-bbd4-492a-a082-f535867c4f23",
   "metadata": {},
   "source": [
    "### The performance and results of your method compared to ElasticSearch,"
   ]
  },
  {
   "cell_type": "markdown",
   "id": "f3dca3b7-825f-4038-962d-a32ecc6a70b4",
   "metadata": {},
   "source": [
    "| Analyzer Type                     | 0 (with synonyms, with lemmatizer) | 1 (without synonyms, with lemmatizer) | 2 (with synonyms, without lemmatizer) | 3 (without synonyms, without lemmatizer) |\n",
    "|-----------------------------------|------------------------------------|---------------------------------------|---------------------------------------|------------------------------------------|\n",
    "| **Distorted queries**         | 18.28%                             | 18.2%                                 | 14.23%                                | 14.16%                                   |\n",
    "| **Levenshtein corrected queries** | 19.53%                         | 19.46%                                | 14.57%                                | 14.56%                                   |\n",
    "| **ElasticSearch's fuzzy match**   | 16.43%                         | 16.45%                                | 14.28%                                | 14.3%                                    |\n",
    "\n",
    "\n",
    "The correction of typos using the Levenshtein method improved results across all analyzers, with the most significant increase observed in configurations with lemmatization. This method is effective because it addresses errors at the editorial level (i.e., spelling mistakes), which greatly facilitates matching queries to documents, especially when a lemmatizer is also applied. As a result, queries are more precise, and the search results are more relevant.\n",
    "\n",
    "The fuzzy match proved to be the least effective for configurations with lemmatization. However, for analyzers without lemmatization, it showed a minimal increase in effectiveness. Fuzzy matching in ElasticSearch is less precise compared to Levenshtein correction, possibly due to the mechanics of fuzzy matching itself—it tends to find the \"closest\" matches but doesn’t consider context in the way that correction based on frequency statistics does.\n",
    "\n",
    "The downside is that typo correction is computationally demanding and takes a significant amount of time (around 30-40 minutes). In contrast, the fuzzy match completed in approximately 2-3 minutes."
   ]
  },
  {
   "cell_type": "markdown",
   "id": "de838db2-3923-45d9-8e03-6a8a829a80dc",
   "metadata": {},
   "source": [
    "### The validity of the obtained corrections,"
   ]
  },
  {
   "cell_type": "markdown",
   "id": "bd1e391b-5e68-47c6-bd42-09b62afe3ea4",
   "metadata": {},
   "source": [
    "The correction of words is particularly effective for longer words, as there are fewer potential candidates for how a typo might be corrected. In the case of short words, they often differ by just one letter. For example, if we write \"co\" intending to mean \"go,\" we won't correct this word because, despite the typo, it exists in the dictionary. Additionally, various abbreviations from other languages pose a challenge, as we may not have those words in our database and cannot determine whether a given abbreviation is legitimate or if it was meant to refer to something else.\n",
    "\n"
   ]
  },
  {
   "cell_type": "markdown",
   "id": "b9e8b18a-485a-45f4-b7d4-4dffd93e79b7",
   "metadata": {},
   "source": [
    "### Ability of an LLM to fix invalid queries."
   ]
  },
  {
   "cell_type": "markdown",
   "id": "96640f1b-5cc0-45a6-b6ce-932d37aa987a",
   "metadata": {},
   "source": [
    "| Original                                                                 | Corrected                                                                  |\n",
    "|-----------------------------------------------------------------------------------|-----------------------------------------------------------------------------|\n",
    "| Jak zdeponować czek wystawiony na współpracownika w mojej firmie na moje kojto firmowe? | Jak zdeponować czek wystawiony na współpracownika w mojej firmie na moje konto firmowe? |\n",
    "| Czy mogę wysłać przekaz pieniężny z oSPS jako firma?                            | Czy mogę wysłać przekaz pieniężny z SPS jako firma?                        |\n",
    "| l EIN prowadzący działalność pod wieloma nazwami firm                            | EIN prowadzący działalność pod wieloma nazwami firm.                       |\n",
    "| Ubieganie się o kredyt biznesowy i otrzymywanie ao                             | Ubieganie się o kredyt biznesowy i otrzymywanie AOW.                      |\n",
    "| 401k Przelew go zamknięciu firmy                                                 | 401(k) Przelew przy zamknięciu firmy.                                      |\n",
    "| Jakie są tajniki zakupu sprzttu do pisania jako wydatki biznesowe w firmie domowej? | Jakie są tajniki zakupu sprzętu do pisania jako wydatki biznesowe w firmie domowej? |\n",
    "| Czy przedsiębiorca może zairudnić samozatrudnionego właściciela firmy?          | Czy przedsiębiorca może zaintrygować samozatrudnionego właściciela firmy?  |\n",
    "| Intencje dotyczące kwoty podzegającej odliczeniu dla małych firm                 | Intencje dotyczące kwoty podżegającej odliczeniu dla małych firm.          |\n",
    "| Jak mogę wpłacić czek wystawioyy na moją firmę na moje konto osobiste?          | Jak mogę wpłacić czek wystawiony na moją firmę na moje konto osobiste?     |\n",
    "| Składanie osobiste e 1099s kontra s-corp biznesowy?                             | Składanie osobistego formularza 1099s kontra S-corp biznesowy?            |\n"
   ]
  },
  {
   "cell_type": "markdown",
   "id": "4830d892-e767-42db-92c5-742ea8938479",
   "metadata": {},
   "source": [
    "As we can see, LLM did quite well. However, it is not an ideal solution, for example, in the sentence: \"Czy przedsiębiorca może zairudnić samozatrudnionego właściciela firmy?\" it corrected it by replacing the word with \"zaintrygować.\" It did not take into account the context, which LLMs often can consider."
   ]
  },
  {
   "cell_type": "code",
   "execution_count": null,
   "id": "6c530bc4-b5ca-43e4-8e72-c4c40aabd433",
   "metadata": {},
   "outputs": [],
   "source": []
  }
 ],
 "metadata": {
  "kernelspec": {
   "display_name": "Python 3 (ipykernel)",
   "language": "python",
   "name": "python3"
  },
  "language_info": {
   "codemirror_mode": {
    "name": "ipython",
    "version": 3
   },
   "file_extension": ".py",
   "mimetype": "text/x-python",
   "name": "python",
   "nbconvert_exporter": "python",
   "pygments_lexer": "ipython3",
   "version": "3.10.14"
  }
 },
 "nbformat": 4,
 "nbformat_minor": 5
}
