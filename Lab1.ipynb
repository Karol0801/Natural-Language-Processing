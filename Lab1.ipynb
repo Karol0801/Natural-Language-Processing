{
 "cells": [
  {
   "cell_type": "code",
   "execution_count": 1,
   "id": "4939dfec-d030-449a-85b5-c2270f4c1140",
   "metadata": {
    "scrolled": true
   },
   "outputs": [],
   "source": [
    "from datasets import load_dataset\n",
    "# import re\n",
    "from collections import defaultdict\n",
    "ds = load_dataset(\"clarin-knext/fiqa-pl\", \"corpus\")\n",
    "from collections import OrderedDict\n",
    "from matplotlib import pyplot as plt\n",
    "import regex"
   ]
  },
  {
   "cell_type": "code",
   "execution_count": 2,
   "id": "c66a7db5-212a-4590-9559-4956332d96a5",
   "metadata": {},
   "outputs": [
    {
     "name": "stdout",
     "output_type": "stream",
     "text": [
      "{'corpus': (57638, 3)}\n",
      "<class 'datasets.dataset_dict.DatasetDict'>\n",
      "dict_keys(['corpus'])\n"
     ]
    }
   ],
   "source": [
    "print(ds.shape)\n",
    "print(type(ds))\n",
    "print(ds.keys())"
   ]
  },
  {
   "cell_type": "code",
   "execution_count": 3,
   "id": "d11356d7-d925-4ac0-a7b1-968a96bf5b1d",
   "metadata": {},
   "outputs": [],
   "source": [
    "time_pattern = r'\\b([01]?[0-9]|2[0-3]):[0-5][0-9]\\b'"
   ]
  },
  {
   "cell_type": "code",
   "execution_count": 4,
   "id": "ed1c5aa1-9d3a-45a8-bc95-cc9135f2e1ad",
   "metadata": {},
   "outputs": [],
   "source": [
    "hours = defaultdict(int)\n",
    "for text in ds['corpus']['text'][:]:\n",
    "    match = regex.search(time_pattern, text)\n",
    "    \n",
    "    if match:\n",
    "        matched_hour = match.group().split(\":\")[0].lstrip(\"0\") or \"0\" # handling 00:xx case\n",
    "        hours[matched_hour] += 1"
   ]
  },
  {
   "cell_type": "code",
   "execution_count": 5,
   "id": "fd628353-2083-46b1-996a-36f98a4086fa",
   "metadata": {},
   "outputs": [
    {
     "data": {
      "image/png": "[encoded data removed]",
      "text/plain": [
       "<Figure size 640x480 with 1 Axes>"
      ]
     },
     "metadata": {},
     "output_type": "display_data"
    }
   ],
   "source": [
    "sorted_hours = OrderedDict(sorted(hours.items(), key=lambda item: int(item[0])))\n",
    "keys = list(sorted_hours.keys())\n",
    "values = list(sorted_hours.values())\n",
    "plt.bar(keys, values)\n",
    "plt.show()"
   ]
  },
  {
   "cell_type": "code",
   "execution_count": 26,
   "id": "5ce4424b-a5c7-4c7e-8e18-08f30db155ae",
   "metadata": {},
   "outputs": [],
   "source": [
    "date_pattern_classic =  r\"(([0-2][0-9]|3[01])[./](0[1-9]|1[0-2])[./](\\d{4}|\\d{2}))\" # DD.MM.YYYY | DD.MM.YY | DD/MM/YYYY | DD/MM/YY\n",
    "\n",
    "date_pattern_names = r'(([0-2]?[0-9]|3[01]) (stycznia|lutego|marca|kwietnia|maja|czerwca|lipca|sierpnia|września|października|listopada|grudnia))' ## DD [month's name]\n",
    "date_pattern = f\"({date_pattern_classic}) | ({date_pattern_names})\" \n",
    "\n",
    "months_in_nominative = {\n",
    "    \"stycznia\": \"styczeń\",\n",
    "    \"lutego\": \"luty\",\n",
    "    \"marca\": \"marzec\",\n",
    "    \"kwietnia\": \"kwiecień\",\n",
    "    \"maja\": \"maj\",\n",
    "    \"czerwca\": \"czerwiec\",\n",
    "    \"lipca\": \"lipiec\",\n",
    "    \"sierpnia\": \"sierpień\",\n",
    "    \"września\": \"wrzesień\",\n",
    "    \"października\": \"październik\",\n",
    "    \"listopada\": \"listopad\",\n",
    "    \"grudnia\": \"grudzień\"\n",
    "}\n",
    "\n",
    "numbers_to_months = {\n",
    "    \"1\": \"styczeń\",\n",
    "    \"2\": \"luty\",\n",
    "    \"3\": \"marzec\",\n",
    "    \"4\": \"kwiecień\",\n",
    "    \"5\": \"maj\",\n",
    "    \"6\": \"czerwiec\",\n",
    "    \"7\": \"lipiec\",\n",
    "    \"8\": \"sierpień\",\n",
    "    \"9\": \"wrzesień\",\n",
    "    \"10\": \"październik\",\n",
    "    \"11\": \"listopad\",\n",
    "    \"12\": \"grudzień\"\n",
    "}"
   ]
  },
  {
   "cell_type": "code",
   "execution_count": 22,
   "id": "293356ea-26af-4602-b24a-c63611ac9176",
   "metadata": {},
   "outputs": [],
   "source": [
    "months = defaultdict(int)\n",
    "for text in ds['corpus']['text'][:]:\n",
    "    match = regex.search(date_pattern, text)\n",
    "\n",
    "    if match:\n",
    "        date_str = match.group(0).strip(\" \")\n",
    "        if regex.search(r\"\\p{L}\", date_str):\n",
    "            month = date_str.split(\" \")[1]\n",
    "            months[months_in_nominative[month]] += 1\n",
    "        else: \n",
    "            separator = \".\" if \".\" in date_str else \"/\"\n",
    "            month = date_str.split(separator)[1].lstrip(\"0\")\n",
    "            month_name = numbers_to_months[month]\n",
    "            months[month_name] += 1"
   ]
  },
  {
   "cell_type": "code",
   "execution_count": 24,
   "id": "3d2a5212-05ea-4ad7-9647-974d86a5af8b",
   "metadata": {},
   "outputs": [
    {
     "data": {
      "text/plain": [
       "defaultdict(int,\n",
       "            {'czerwiec': 56,\n",
       "             'kwiecień': 114,\n",
       "             'grudzień': 87,\n",
       "             'maj': 35,\n",
       "             'wrzesień': 80,\n",
       "             'sierpień': 54,\n",
       "             'styczeń': 119,\n",
       "             'listopad': 27,\n",
       "             'październik': 72,\n",
       "             'lipiec': 61,\n",
       "             'marzec': 44,\n",
       "             'luty': 31})"
      ]
     },
     "execution_count": 24,
     "metadata": {},
     "output_type": "execute_result"
    }
   ],
   "source": [
    "months"
   ]
  },
  {
   "cell_type": "code",
   "execution_count": 25,
   "id": "f9d4c029-5b71-49b1-9fff-754a1629f9fa",
   "metadata": {},
   "outputs": [
    {
     "data": {
      "image/png": "[encoded data removed]",
      "text/plain": [
       "<Figure size 640x480 with 1 Axes>"
      ]
     },
     "metadata": {},
     "output_type": "display_data"
    }
   ],
   "source": [
    "plt.bar(list(months.keys()), list(months.values()))\n",
    "plt.xticks(rotation=90)\n",
    "plt.show()"
   ]
  },
  {
   "cell_type": "code",
   "execution_count": 10,
   "id": "77760c7d-fd0f-46c0-a399-bfe30d5d548a",
   "metadata": {},
   "outputs": [],
   "source": [
    "april_pattern = r\"\\bkwie(cień|tni(a|owi|em|u))\\b\"\n",
    "april_preceded = r\"(?<=\\d+\\s)kwie(cień|tni(a|owi|em|u))\\b\"\n",
    "april_not_preceded = r\"(?<!\\d+\\s)kwie(cień|tni(a|owi|em|u))\""
   ]
  },
  {
   "cell_type": "code",
   "execution_count": 19,
   "id": "5f4bac04-6375-4a39-b793-1e1b96161ec6",
   "metadata": {},
   "outputs": [],
   "source": [
    "def count_matches(pattern):\n",
    "    counter = 0\n",
    "    for text in ds['corpus']['text'][:]:\n",
    "        match = regex.search(pattern, text.lower())\n",
    "        if match:\n",
    "            counter += 1\n",
    "            # print(match.group(0))\n",
    "    return counter"
   ]
  },
  {
   "cell_type": "code",
   "execution_count": 20,
   "id": "b3871eb6-8fa1-4a65-a962-28956b7a4482",
   "metadata": {},
   "outputs": [
    {
     "name": "stdout",
     "output_type": "stream",
     "text": [
      "Aprils:  257\n",
      "Aprils preceded:  139\n",
      "Aprils not preceded:  129\n"
     ]
    }
   ],
   "source": [
    "print(\"Aprils: \", count_matches(april_pattern))\n",
    "print(\"Aprils preceded: \", count_matches(april_preceded))\n",
    "print(\"Aprils not preceded: \", count_matches(april_not_preceded))"
   ]
  },
  {
   "cell_type": "markdown",
   "id": "ac7fa166-3638-4e46-ac58-75af03dad45c",
   "metadata": {},
   "source": [
    "Okazuje się, że sie nie sumują. Dlaczego?"
   ]
  },
  {
   "cell_type": "markdown",
   "id": "45c438ac-2f2e-46c8-a3f4-859f40807236",
   "metadata": {},
   "source": [
    "Poniżej rozwiązanie GPT:"
   ]
  },
  {
   "cell_type": "code",
   "execution_count": 13,
   "id": "cf90ad6e-0cda-438b-845e-5a7e6bab11a0",
   "metadata": {},
   "outputs": [],
   "source": [
    "time_pattern = r'\\b\\d{1,2}:\\d{2}\\b' # zwraca np. godzinę 80\n",
    "date_pattern = r'\\b\\d{1,2}\\s+[a-zA-Ząćęłńóśźż]+\\b'\n",
    "kwiecien_pattern = r'\\bkwie\\w*\\b'\n",
    "kwiecien_with_number_pattern = r'(?<=\\d+\\s)kwie\\w*'\n",
    "kwiecien_without_number_pattern = r'(?<!\\d+\\s)kwie\\w*'"
   ]
  },
  {
   "cell_type": "markdown",
   "id": "74261314-081a-4b2e-85f9-4aa6ba22fd8d",
   "metadata": {},
   "source": [
    "Zapewne gdyby się troche z LLM pobawić to by sensowniejsze patterny podał, te są zbyt ogólne. Ale gdy wkleiłem całą treść zadania naraz to takie zaproponował"
   ]
  },
  {
   "cell_type": "markdown",
   "id": "b4f53974-c81a-4c6c-ae04-2d9d5e61e34c",
   "metadata": {},
   "source": [
    "\n",
    "1. Are regular expressions good at capturing times?\n",
    "\n",
    "Regular expressions can be very useful for capturing time formats since there are relatively few standard time formats. However, it's important to be cautious when using them. While regex can help extract useful information, the results may not be accurate. For instance, we risk matching \"22:25\" which could refer to a voleyball score instead of time. Therefore, it's crucial to be mindful of context and potential ambiguity\n",
    "\n",
    "2. Are regular expressions good at capturing dates?\n",
    " \n",
    "In this case, using regular expressions becomes even more challenging. The number of potential cases increases, especially in languages like Polish, where there are many inflectional forms of month names that need to be covered. This makes it harder to cover all possible variations. However, since I’m not aware of any better methods for capturing dates at this moment, we can still consider regular expressions to be quite good.\n",
    "\n",
    "\n",
    "3. How one can be sure that the expression has matched all and only the correct expressions of a given type?\n",
    "\n",
    "\n",
    "We should aim to define the pattern as precisely as possible, because a pattern that is too general will match unintended cases. It's also helpful to write tests that cover edge cases. However, there is still a chance that we might overlook something, so careful review and testing are important.\n",
    "\n",
    "4. Is LLM able to generate regular expressions?\n",
    "\n",
    "\n",
    "Yes, it generally works quite well, as long as we provide enough context. LLMs tend to create patterns that are too general, but with our feedback, they can adjust them accordingly.\n"
   ]
  },
  {
   "cell_type": "code",
   "execution_count": null,
   "id": "da83210d-beb9-4d3f-b4bb-e87aaa20b26d",
   "metadata": {},
   "outputs": [],
   "source": []
  }
 ],
 "metadata": {
  "kernelspec": {
   "display_name": "Python 3 (ipykernel)",
   "language": "python",
   "name": "python3"
  },
  "language_info": {
   "codemirror_mode": {
    "name": "ipython",
    "version": 3
   },
   "file_extension": ".py",
   "mimetype": "text/x-python",
   "name": "python",
   "nbconvert_exporter": "python",
   "pygments_lexer": "ipython3",
   "version": "3.10.14"
  }
 },
 "nbformat": 4,
 "nbformat_minor": 5
}
