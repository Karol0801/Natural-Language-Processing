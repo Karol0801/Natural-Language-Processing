{
 "cells": [
  {
   "cell_type": "code",
   "execution_count": 1,
   "id": "99cdb9ed-3242-4440-af80-7bd320444a9f",
   "metadata": {},
   "outputs": [
    {
     "name": "stderr",
     "output_type": "stream",
     "text": [
      "C:\\Users\\karol\\anaconda3\\envs\\NLP_spacy2\\lib\\site-packages\\tqdm\\auto.py:21: TqdmWarning: IProgress not found. Please update jupyter and ipywidgets. See https://ipywidgets.readthedocs.io/en/stable/user_install.html\n",
      "  from .autonotebook import tqdm as notebook_tqdm\n"
     ]
    }
   ],
   "source": [
    "import spacy\n",
    "from collections import Counter, OrderedDict, defaultdict\n",
    "from datasets import load_dataset\n",
    "from elasticsearch import Elasticsearch\n",
    "from spacy.tokenizer import Tokenizer\n",
    "import pandas as pd\n",
    "import matplotlib.pyplot as plt"
   ]
  },
  {
   "cell_type": "code",
   "execution_count": 2,
   "id": "23dc7ec6-3441-4c8f-819e-b9b9397bc2b2",
   "metadata": {},
   "outputs": [],
   "source": [
    "ds = load_dataset(\"clarin-knext/fiqa-pl\", \"corpus\")\n",
    "df=pd.DataFrame(ds['corpus'])\n",
    "df = df.sample(n=1000)\n",
    "text_list = [text for text in df['text']]"
   ]
  },
  {
   "cell_type": "code",
   "execution_count": 3,
   "id": "d65a341e-4626-4d6f-b4e4-479cfa4eda1b",
   "metadata": {},
   "outputs": [],
   "source": [
    "nlp = spacy.load(\"pl_core_news_sm\")\n",
    "\n",
    "def extract_capitalized_expressions(doc):\n",
    "    expressions = []\n",
    "    for sent in doc.sents:\n",
    "        consecutive_capitalized = []\n",
    "        for i, token in enumerate(sent): # handling one sentence at a time\n",
    "            # checking if it's not the first word in the sentence, it's alphabetic, and it's lemmatization is capitalized\n",
    "            if i > 0 and token.is_alpha and token.lemma_[0].isupper():\n",
    "                consecutive_capitalized.append(token.lemma_)\n",
    "            else:\n",
    "                # If we reach a non-capitalized word, we check if we have a valid expression\n",
    "                if len(consecutive_capitalized) > 1:\n",
    "                    expressions.append(\" \".join(consecutive_capitalized))\n",
    "                consecutive_capitalized = []\n",
    "        # Final check in case the sentence ends with a capitalized sequence\n",
    "        if len(consecutive_capitalized) > 1:\n",
    "            expressions.append(\" \".join(consecutive_capitalized))\n",
    "    return expressions"
   ]
  },
  {
   "cell_type": "code",
   "execution_count": 4,
   "id": "21c69d29-dc60-4ae5-baba-3a5bafe4afa6",
   "metadata": {},
   "outputs": [
    {
     "name": "stdout",
     "output_type": "stream",
     "text": [
      "Entity count: 337\n"
     ]
    }
   ],
   "source": [
    "entities = []\n",
    "for text in text_list:\n",
    "    doc = nlp(text)\n",
    "    expressions = extract_capitalized_expressions(doc)\n",
    "    entities.extend(expressions)\n",
    "\n",
    "print(\"Entity count:\", len(entities))"
   ]
  },
  {
   "cell_type": "markdown",
   "id": "fb880cdc-dce6-44fc-83f4-40b73b707a21",
   "metadata": {},
   "source": [
    "Counting and sorting detected expressions, then extracting the 50 most frequent ones."
   ]
  },
  {
   "cell_type": "code",
   "execution_count": 5,
   "id": "89268711-9c2d-43ee-bbd1-122b72261dc5",
   "metadata": {},
   "outputs": [],
   "source": [
    "from collections import defaultdict\n",
    "from itertools import islice\n",
    "\n",
    "occurances = defaultdict(int)\n",
    "for entity in entities:\n",
    "    occurances[entity] += 1\n",
    "\n",
    "occurances = dict(sorted(occurances.items(), key=lambda item: -item[1]))\n",
    "top_50 = dict(islice(occurances.items(), 50))"
   ]
  },
  {
   "cell_type": "code",
   "execution_count": 6,
   "id": "2eceae99-11e2-4c1b-b0d7-0831cd3d783d",
   "metadata": {},
   "outputs": [
    {
     "data": {
      "text/plain": [
       "{'Stany Zjednoczone': 26,\n",
       " 'Roth IRA': 15,\n",
       " 'Wielki Brytania': 13,\n",
       " 'Wall Street': 7,\n",
       " 'Nowy Jork': 4,\n",
       " 'Whole Foods': 3,\n",
       " 'Paradise Papers': 3,\n",
       " 'Podatek Dochodowych': 3,\n",
       " 'Vista Sand': 3,\n",
       " 'Western Union': 3,\n",
       " 'Washington Federal': 3,\n",
       " 'Flash Boys': 2,\n",
       " 'LA Times': 2,\n",
       " 'AutoWikibot NSFW': 2,\n",
       " 'Waluta B': 2,\n",
       " 'Donald Trump': 2,\n",
       " 'Fine Jewelry': 2,\n",
       " 'Bob Snyder': 2,\n",
       " 'Lloyds TSB': 2,\n",
       " 'Jeff Bezosa': 2,\n",
       " 'NYSE ARCA': 2,\n",
       " 'Google Finance': 2,\n",
       " 'Best Buy': 2,\n",
       " 'Financial Conduct Authority': 2,\n",
       " 'Michael Pryor': 2,\n",
       " 'ING Direct': 2,\n",
       " 'Lance Armstrong': 2,\n",
       " 'Chicago IL': 2,\n",
       " 'Google Fiber': 1,\n",
       " 'The Roth Emergency Fund': 1,\n",
       " 'Juliusz Cezar': 1,\n",
       " 'John Hubertz': 1,\n",
       " 'Bliski Wschodzie': 1,\n",
       " 'Credit Karma': 1,\n",
       " 'Kanada Bank': 1,\n",
       " 'Strona B': 1,\n",
       " 'Strona A': 1,\n",
       " 'Ben Miller': 1,\n",
       " 'Reporterzy Times David Streitfeld': 1,\n",
       " 'Technology Mgmt': 1,\n",
       " 'Alerty Google': 1,\n",
       " 'PŁACA CAŁKOWITA': 1,\n",
       " 'ŁĄCZNEJ WAGES': 1,\n",
       " 'NY Times': 1,\n",
       " 'Panama Papers': 1,\n",
       " 'The Segregated Portfolio Company': 1,\n",
       " 'Series LLC': 1,\n",
       " 'Stanach Zjednoczone': 1,\n",
       " 'Prince Charles': 1,\n",
       " 'Electro Plating Corporation': 1}"
      ]
     },
     "execution_count": 6,
     "metadata": {},
     "output_type": "execute_result"
    }
   ],
   "source": [
    "top_50"
   ]
  },
  {
   "cell_type": "markdown",
   "id": "5135b6df-7bbc-4c65-97f1-89a9d08a1589",
   "metadata": {},
   "source": [
    "Applying the NER from SpaCy to identify the named entities (the same set of documents)"
   ]
  },
  {
   "cell_type": "code",
   "execution_count": 7,
   "id": "31c3290f-5e78-4735-8737-c690ccbf51fa",
   "metadata": {},
   "outputs": [
    {
     "name": "stdout",
     "output_type": "stream",
     "text": [
      "NER entity count: 2359\n"
     ]
    }
   ],
   "source": [
    "ner_entities = []\n",
    "\n",
    "for text in text_list:\n",
    "    doc = nlp(text)\n",
    "    ner_entities += [(ent.lemma_, ent.label_) for ent in doc.ents]\n",
    "\n",
    "print(\"NER entity count:\", len(ner_entities))"
   ]
  },
  {
   "cell_type": "markdown",
   "id": "0e65a3c0-bb30-4ba6-aabe-32428a5ffca6",
   "metadata": {},
   "source": [
    "Identifying detected classes and plotting a histogram"
   ]
  },
  {
   "cell_type": "code",
   "execution_count": 8,
   "id": "57cd5b34-324f-4b30-a8e7-450b8e7d5ead",
   "metadata": {},
   "outputs": [],
   "source": [
    "classes = defaultdict(int)\n",
    "\n",
    "for entity in ner_entities:\n",
    "    classes[entity[1]] += 1\n",
    "\n",
    "classes = dict(sorted(classes.items(), key=lambda item: -item[1]))"
   ]
  },
  {
   "cell_type": "code",
   "execution_count": 9,
   "id": "d0b9bdbd-e17a-4b45-91e6-c7e830140290",
   "metadata": {},
   "outputs": [
    {
     "data": {
      "text/plain": [
       "{'orgName': 873,\n",
       " 'persName': 600,\n",
       " 'placeName': 594,\n",
       " 'date': 210,\n",
       " 'geogName': 77,\n",
       " 'time': 5}"
      ]
     },
     "execution_count": 9,
     "metadata": {},
     "output_type": "execute_result"
    }
   ],
   "source": [
    "classes"
   ]
  },
  {
   "cell_type": "code",
   "execution_count": 10,
   "id": "a2276da1-4992-4915-9a85-92ccb75bf51c",
   "metadata": {},
   "outputs": [
    {
     "data": {
      "image/png": "[encoded data removed]",
      "text/plain": [
       "<Figure size 640x480 with 1 Axes>"
      ]
     },
     "metadata": {},
     "output_type": "display_data"
    }
   ],
   "source": [
    "plt.bar(classes.keys(), classes.values())\n",
    "plt.title(\"Frequency of identified entity classes\")\n",
    "plt.xlabel(\"Entity class\")\n",
    "plt.ylabel(\"Frequency\")\n",
    "plt.xticks(rotation=45)\n",
    "plt.show()"
   ]
  },
  {
   "cell_type": "markdown",
   "id": "680b7603-b438-4a82-a21d-65b9823932b6",
   "metadata": {},
   "source": [
    "Creating a dictionary where the keys are entity classes, and the values are lists of words belonging to each class."
   ]
  },
  {
   "cell_type": "code",
   "execution_count": 11,
   "id": "481d5b88-e41b-4cf6-85d4-a2679c834953",
   "metadata": {},
   "outputs": [],
   "source": [
    "entities_by_type = defaultdict(list)\n",
    "\n",
    "for entity in ner_entities:\n",
    "    entities_by_type[entity[1]].append(entity[0])"
   ]
  },
  {
   "cell_type": "code",
   "execution_count": 12,
   "id": "ee4eb9f9-de4f-44d0-9670-25f453031df9",
   "metadata": {},
   "outputs": [],
   "source": [
    "# ner_entities[:10]"
   ]
  },
  {
   "cell_type": "markdown",
   "id": "a32af95c-ac7d-4270-84a9-af4b583c0632",
   "metadata": {},
   "source": [
    "Counting occurrences of each entity and sorting them"
   ]
  },
  {
   "cell_type": "code",
   "execution_count": 13,
   "id": "354e995d-710b-48d3-9cb3-198845e15648",
   "metadata": {},
   "outputs": [],
   "source": [
    "ner_occ = defaultdict(int)\n",
    "\n",
    "for entity in ner_entities:\n",
    "    ner_occ[entity] += 1\n",
    "\n",
    "ner_occ = dict(sorted(ner_occ.items(), key=lambda item: -item[1]))\n",
    "top_50_ner = dict(islice(ner_occ.items(), 50))"
   ]
  },
  {
   "cell_type": "code",
   "execution_count": 14,
   "id": "4721df4e-558b-4290-a86a-9c6f76fb5ca1",
   "metadata": {},
   "outputs": [],
   "source": [
    "# ner_occ"
   ]
  },
  {
   "cell_type": "markdown",
   "id": "91ef9e0c-379f-4fa5-8b73-c5ee0f157308",
   "metadata": {},
   "source": [
    "Displaying 10 most frequent Named Entities for each identified type."
   ]
  },
  {
   "cell_type": "code",
   "execution_count": 15,
   "id": "06261832-92be-4b09-b902-f8ea974a8695",
   "metadata": {},
   "outputs": [
    {
     "name": "stdout",
     "output_type": "stream",
     "text": [
      "================== ENTITY TYPE: orgName ==================\n",
      "IRA\n",
      "ETF\n",
      "AUD\n",
      "Google\n",
      "GBP\n",
      "LLC\n",
      "IRS\n",
      "Apple\n",
      "Roth\n",
      "Roth IRA\n",
      "================== ENTITY TYPE: persName ==================\n",
      "Amazon\n",
      "sald\n",
      "gdyby być\n",
      "Trump\n",
      "Rotha\n",
      "amazon\n",
      "jakby być\n",
      "Mvelopes\n",
      "gdybyś\n",
      "Walmart\n",
      "================== ENTITY TYPE: placeName ==================\n",
      "USA\n",
      "amerykański\n",
      "Indie\n",
      "Stany Zjednoczone\n",
      "Kanada\n",
      "Wielki Brytania\n",
      "Amerykanów\n",
      "niemiecki\n",
      "Illinois\n",
      "Chiny\n",
      "================== ENTITY TYPE: date ==================\n",
      "1099\n",
      "1 sierpień\n",
      "1040\n",
      "2015\n",
      "2008 rok\n",
      "10.\n",
      "1098\n",
      "2014 rok.\n",
      "1 czerwiec\n",
      "2016 rok.\n",
      "================== ENTITY TYPE: geogName ==================\n",
      "Europa\n",
      "europejski\n",
      "Ameryka\n",
      "Seria\n",
      "McDonald's\n",
      "Australia\n",
      "Azja\n",
      "Wall Street\n",
      "zachód\n",
      "Afryka\n",
      "================== ENTITY TYPE: time ==================\n",
      "30.\n",
      "14.\n",
      "00\n",
      "godzina 2\n"
     ]
    }
   ],
   "source": [
    "for entity_class in classes:\n",
    "    i = 0\n",
    "    print(f\"================== ENTITY TYPE: {entity_class} ==================\")\n",
    "    for entity in ner_occ:\n",
    "        if entity[1] == entity_class:\n",
    "            print(entity[0])\n",
    "            i += 1\n",
    "        if i == 10:\n",
    "            break"
   ]
  },
  {
   "cell_type": "markdown",
   "id": "7c35c08a-ccf7-4643-a49f-b321cd2a93fe",
   "metadata": {},
   "source": [
    "Displaying 50 most frequent Named Entities including their count and type."
   ]
  },
  {
   "cell_type": "code",
   "execution_count": 16,
   "id": "24261667-91fd-4a8a-a35a-9ad7b7bd50a9",
   "metadata": {},
   "outputs": [
    {
     "data": {
      "text/plain": [
       "{('USA', 'placeName'): 84,\n",
       " ('IRA', 'orgName'): 49,\n",
       " ('amerykański', 'placeName'): 34,\n",
       " ('Indie', 'placeName'): 25,\n",
       " ('Stany Zjednoczone', 'placeName'): 23,\n",
       " ('ETF', 'orgName'): 20,\n",
       " ('AUD', 'orgName'): 20,\n",
       " ('Google', 'orgName'): 18,\n",
       " ('GBP', 'orgName'): 18,\n",
       " ('LLC', 'orgName'): 17,\n",
       " ('IRS', 'orgName'): 16,\n",
       " ('Amazon', 'persName'): 15,\n",
       " ('Apple', 'orgName'): 14,\n",
       " ('Roth', 'orgName'): 13,\n",
       " ('Kanada', 'placeName'): 13,\n",
       " ('Wielki Brytania', 'placeName'): 13,\n",
       " ('Roth IRA', 'orgName'): 12,\n",
       " ('1099', 'date'): 11,\n",
       " ('sald', 'persName'): 9,\n",
       " ('CPA', 'orgName'): 9,\n",
       " ('NYSE', 'orgName'): 9,\n",
       " ('1 sierpień', 'date'): 9,\n",
       " ('IPO', 'orgName'): 8,\n",
       " ('gdyby być', 'persName'): 8,\n",
       " ('Amerykanów', 'placeName'): 8,\n",
       " ('Trump', 'persName'): 8,\n",
       " ('Rotha', 'persName'): 8,\n",
       " ('PO', 'orgName'): 8,\n",
       " ('amazon', 'persName'): 7,\n",
       " ('niemiecki', 'placeName'): 7,\n",
       " ('1040', 'date'): 7,\n",
       " ('Illinois', 'placeName'): 7,\n",
       " ('jakby być', 'persName'): 7,\n",
       " ('2015', 'date'): 7,\n",
       " ('UE', 'orgName'): 7,\n",
       " ('Mvelopes', 'persName'): 7,\n",
       " ('Chiny', 'placeName'): 6,\n",
       " ('gdybyś', 'persName'): 6,\n",
       " ('kanadyjski', 'placeName'): 6,\n",
       " ('nowy Jork', 'placeName'): 6,\n",
       " ('FHA', 'orgName'): 6,\n",
       " ('MBA', 'orgName'): 6,\n",
       " ('Europa', 'geogName'): 6,\n",
       " ('Rosja', 'placeName'): 6,\n",
       " ('NRO', 'orgName'): 6,\n",
       " ('RRSP', 'orgName'): 5,\n",
       " ('Walmart', 'persName'): 5,\n",
       " ('Kalifornia', 'orgName'): 5,\n",
       " ('Microsoft', 'orgName'): 5,\n",
       " ('Stany Zjednoczone', 'orgName'): 5}"
      ]
     },
     "execution_count": 16,
     "metadata": {},
     "output_type": "execute_result"
    }
   ],
   "source": [
    "top_50_ner"
   ]
  },
  {
   "cell_type": "code",
   "execution_count": 17,
   "id": "3555ee89-3b96-4055-9311-9172a4140861",
   "metadata": {},
   "outputs": [
    {
     "name": "stderr",
     "output_type": "stream",
     "text": [
      "2024-11-15 00:18:39.687 WARNING streamlit.runtime.caching.cache_data_api: No runtime found, using MemoryCacheStorageManager\n"
     ]
    }
   ],
   "source": [
    "import streamlit as st\n",
    "from spacy import displacy\n",
    "from spacy_streamlit import visualize_ner"
   ]
  },
  {
   "cell_type": "markdown",
   "id": "8bb4a327-263b-439c-a7ae-7f25d57ec630",
   "metadata": {},
   "source": [
    "Searching for sentences that contain two different entity types"
   ]
  },
  {
   "cell_type": "code",
   "execution_count": 18,
   "id": "41e1f2c6-0640-4080-8010-395f2d0e0d6a",
   "metadata": {},
   "outputs": [],
   "source": [
    "sentences_with_multiple_entities = []\n",
    "\n",
    "for text in text_list: # texts\n",
    "    doc = nlp(text)\n",
    "    for sent in doc.sents: # sentences\n",
    "        entities_in_sentence = [(ent.text, ent.label_) for ent in sent.ents]\n",
    "        entity_types = set([ent.label_ for ent in sent.ents])\n",
    "\n",
    "        if len(entity_types) >= 2:\n",
    "            sentences_with_multiple_entities.append(str(sent))\n",
    "        \n",
    "        if len(sentences_with_multiple_entities) == 5:\n",
    "            break\n",
    "            \n",
    "    if len(sentences_with_multiple_entities) == 5:\n",
    "        break"
   ]
  },
  {
   "cell_type": "code",
   "execution_count": 20,
   "id": "978ec1df-dec5-4d4d-a7a6-897fd5962752",
   "metadata": {},
   "outputs": [
    {
     "data": {
      "text/html": [
       "<span class=\"tex2jax_ignore\"><div class=\"entities\" style=\"line-height: 2.5; direction: ltr\">„Ha, \n",
       "<mark class=\"entity\" style=\"background: #ddd; padding: 0.45em 0.6em; margin: 0 0.25em; line-height: 1; border-radius: 0.35em;\">\n",
       "    Kanada\n",
       "    <span style=\"font-size: 0.8em; font-weight: bold; line-height: 1; border-radius: 0.35em; vertical-align: middle; margin-left: 0.5rem\">placeName</span>\n",
       "</mark>\n",
       " od lat ma dostęp do wiadomości \n",
       "<mark class=\"entity\" style=\"background: #ddd; padding: 0.45em 0.6em; margin: 0 0.25em; line-height: 1; border-radius: 0.35em;\">\n",
       "    Foxa\n",
       "    <span style=\"font-size: 0.8em; font-weight: bold; line-height: 1; border-radius: 0.35em; vertical-align: middle; margin-left: 0.5rem\">persName</span>\n",
       "</mark>\n",
       ".</div></span>"
      ],
      "text/plain": [
       "<IPython.core.display.HTML object>"
      ]
     },
     "metadata": {},
     "output_type": "display_data"
    },
    {
     "data": {
      "text/plain": [
       "<IPython.core.display.HTML object>"
      ]
     },
     "metadata": {},
     "output_type": "display_data"
    },
    {
     "data": {
      "text/html": [
       "<span class=\"tex2jax_ignore\"><div class=\"entities\" style=\"line-height: 2.5; direction: ltr\">To były powody, dla których zachowałem moje \n",
       "<mark class=\"entity\" style=\"background: #ddd; padding: 0.45em 0.6em; margin: 0 0.25em; line-height: 1; border-radius: 0.35em;\">\n",
       "    amerykańskie\n",
       "    <span style=\"font-size: 0.8em; font-weight: bold; line-height: 1; border-radius: 0.35em; vertical-align: middle; margin-left: 0.5rem\">placeName</span>\n",
       "</mark>\n",
       " 401(k) bez zmian i zacząłem finansować moje \n",
       "<mark class=\"entity\" style=\"background: #ddd; padding: 0.45em 0.6em; margin: 0 0.25em; line-height: 1; border-radius: 0.35em;\">\n",
       "    kanadyjskie\n",
       "    <span style=\"font-size: 0.8em; font-weight: bold; line-height: 1; border-radius: 0.35em; vertical-align: middle; margin-left: 0.5rem\">geogName</span>\n",
       "</mark>\n",
       " \n",
       "<mark class=\"entity\" style=\"background: #ddd; padding: 0.45em 0.6em; margin: 0 0.25em; line-height: 1; border-radius: 0.35em;\">\n",
       "    RRSP\n",
       "    <span style=\"font-size: 0.8em; font-weight: bold; line-height: 1; border-radius: 0.35em; vertical-align: middle; margin-left: 0.5rem\">geogName</span>\n",
       "</mark>\n",
       " z \n",
       "<mark class=\"entity\" style=\"background: #ddd; padding: 0.45em 0.6em; margin: 0 0.25em; line-height: 1; border-radius: 0.35em;\">\n",
       "    salda zerowego\n",
       "    <span style=\"font-size: 0.8em; font-weight: bold; line-height: 1; border-radius: 0.35em; vertical-align: middle; margin-left: 0.5rem\">persName</span>\n",
       "</mark>\n",
       ".</div></span>"
      ],
      "text/plain": [
       "<IPython.core.display.HTML object>"
      ]
     },
     "metadata": {},
     "output_type": "display_data"
    },
    {
     "data": {
      "text/plain": [
       "<IPython.core.display.HTML object>"
      ]
     },
     "metadata": {},
     "output_type": "display_data"
    },
    {
     "data": {
      "text/html": [
       "<span class=\"tex2jax_ignore\"><div class=\"entities\" style=\"line-height: 2.5; direction: ltr\">\n",
       "<mark class=\"entity\" style=\"background: #ddd; padding: 0.45em 0.6em; margin: 0 0.25em; line-height: 1; border-radius: 0.35em;\">\n",
       "    Amazon\n",
       "    <span style=\"font-size: 0.8em; font-weight: bold; line-height: 1; border-radius: 0.35em; vertical-align: middle; margin-left: 0.5rem\">persName</span>\n",
       "</mark>\n",
       " po prostu odbiera towar z najbliższego centrum dystrybucyjnego, wpycha go do naczepy z mnóstwem innych śmieci, a \n",
       "<mark class=\"entity\" style=\"background: #ddd; padding: 0.45em 0.6em; margin: 0 0.25em; line-height: 1; border-radius: 0.35em;\">\n",
       "    UPS\n",
       "    <span style=\"font-size: 0.8em; font-weight: bold; line-height: 1; border-radius: 0.35em; vertical-align: middle; margin-left: 0.5rem\">orgName</span>\n",
       "</mark>\n",
       " przyjedzie i zabierze już załadowaną naczepę.</div></span>"
      ],
      "text/plain": [
       "<IPython.core.display.HTML object>"
      ]
     },
     "metadata": {},
     "output_type": "display_data"
    },
    {
     "data": {
      "text/plain": [
       "<IPython.core.display.HTML object>"
      ]
     },
     "metadata": {},
     "output_type": "display_data"
    },
    {
     "data": {
      "text/html": [
       "<span class=\"tex2jax_ignore\"><div class=\"entities\" style=\"line-height: 2.5; direction: ltr\">&gt; \n",
       "<mark class=\"entity\" style=\"background: #ddd; padding: 0.45em 0.6em; margin: 0 0.25em; line-height: 1; border-radius: 0.35em;\">\n",
       "    Visa\n",
       "    <span style=\"font-size: 0.8em; font-weight: bold; line-height: 1; border-radius: 0.35em; vertical-align: middle; margin-left: 0.5rem\">persName</span>\n",
       "</mark>\n",
       " i \n",
       "<mark class=\"entity\" style=\"background: #ddd; padding: 0.45em 0.6em; margin: 0 0.25em; line-height: 1; border-radius: 0.35em;\">\n",
       "    Mastercard\n",
       "    <span style=\"font-size: 0.8em; font-weight: bold; line-height: 1; border-radius: 0.35em; vertical-align: middle; margin-left: 0.5rem\">persName</span>\n",
       "</mark>\n",
       " zakazały płatności na rzecz \n",
       "<mark class=\"entity\" style=\"background: #ddd; padding: 0.45em 0.6em; margin: 0 0.25em; line-height: 1; border-radius: 0.35em;\">\n",
       "    Wikileaks\n",
       "    <span style=\"font-size: 0.8em; font-weight: bold; line-height: 1; border-radius: 0.35em; vertical-align: middle; margin-left: 0.5rem\">geogName</span>\n",
       "</mark>\n",
       " na podstawie rzekomego ułatwiania przez \n",
       "<mark class=\"entity\" style=\"background: #ddd; padding: 0.45em 0.6em; margin: 0 0.25em; line-height: 1; border-radius: 0.35em;\">\n",
       "    WL\n",
       "    <span style=\"font-size: 0.8em; font-weight: bold; line-height: 1; border-radius: 0.35em; vertical-align: middle; margin-left: 0.5rem\">orgName</span>\n",
       "</mark>\n",
       " nielegalnej działalności.</div></span>"
      ],
      "text/plain": [
       "<IPython.core.display.HTML object>"
      ]
     },
     "metadata": {},
     "output_type": "display_data"
    },
    {
     "data": {
      "text/plain": [
       "<IPython.core.display.HTML object>"
      ]
     },
     "metadata": {},
     "output_type": "display_data"
    },
    {
     "data": {
      "text/html": [
       "<span class=\"tex2jax_ignore\"><div class=\"entities\" style=\"line-height: 2.5; direction: ltr\">Dopiero niedawno sam go znalazłem, więc nie jestem pewien, czy ma \n",
       "<mark class=\"entity\" style=\"background: #ddd; padding: 0.45em 0.6em; margin: 0 0.25em; line-height: 1; border-radius: 0.35em;\">\n",
       "    brytyjskie\n",
       "    <span style=\"font-size: 0.8em; font-weight: bold; line-height: 1; border-radius: 0.35em; vertical-align: middle; margin-left: 0.5rem\">placeName</span>\n",
       "</mark>\n",
       " czy \n",
       "<mark class=\"entity\" style=\"background: #ddd; padding: 0.45em 0.6em; margin: 0 0.25em; line-height: 1; border-radius: 0.35em;\">\n",
       "    europejskie\n",
       "    <span style=\"font-size: 0.8em; font-weight: bold; line-height: 1; border-radius: 0.35em; vertical-align: middle; margin-left: 0.5rem\">orgName</span>\n",
       "</mark>\n",
       " nachylenie.</div></span>"
      ],
      "text/plain": [
       "<IPython.core.display.HTML object>"
      ]
     },
     "metadata": {},
     "output_type": "display_data"
    },
    {
     "data": {
      "text/plain": [
       "<IPython.core.display.HTML object>"
      ]
     },
     "metadata": {},
     "output_type": "display_data"
    }
   ],
   "source": [
    "from IPython.display import HTML\n",
    "\n",
    "for sentence in sentences_with_multiple_entities:\n",
    "  doc=nlp(sentence)\n",
    "  options = {\"ents\": [ent.label_ for ent in doc.ents]}\n",
    "  html_code=(displacy.render(doc, style=\"ent\", options=options))\n",
    "  display(HTML(html_code))"
   ]
  },
  {
   "cell_type": "markdown",
   "id": "29b2fc61-7438-4b1c-85d2-66b102b02bc5",
   "metadata": {},
   "source": [
    "## Questions"
   ]
  },
  {
   "cell_type": "markdown",
   "id": "081c5190-7181-48b3-87ab-59a35777f81b",
   "metadata": {},
   "source": [
    "### 1. Which of the method (counting expressions with capital letters vs. NER) worked better for the task concerned with identification of the proper names?\n",
    "\n",
    "Comparing the top 50 results obtained by each method, I noticed that the method based on counting capitalized expressions is more restrictive, and nearly all elements found this way appear to be correct. Therefore, the results obtained using this method are more precise.\n",
    "\n",
    "### 2. What are the drawbacks of the method based on capital letters?\n",
    "\n",
    "This method has some significant limitations. Due to its design, it does not detect all cases we are searching for. For example, using NER (Named Entity Recognition), we identified the word 'amazon' which according to the rules, should have been capitalized. However, because it was written in lowercase, the model failed to recognize it correctly. Another limitation is that this method omits the first words in sentences, which can also lead to missed entities. Beyond that, applying NER provides us with immediate information about the entity type, which can be useful in some cases.\n",
    "\n",
    "### 3. What are the drawbacks of the method based on NER?\n",
    "\n",
    "The NER method captures more of the desired values but also returns entries that shouldn't be classified as entities. For instance, the phrase 'gdyby być' was classified as 'persName,' and the word 'niemiecki' as 'placeName,' although it is an adjective that should not be considered an entity type.\n",
    "\n",
    "### 4. Which of the coarse-grained NER groups has the best and which has the worst results? Try to justify this observation.\n",
    "\n",
    "The best results were obtained for the 'date' and 'placeName' classes. In both cases, however, there were incorrectly matched values, such as '10.', which in the sentence context did not refer to a date, and 'amerykański' in the 'placeName' class. Nevertheless, overall, the model handled these classes satisfactorily. The greatest difficulties with result accuracy occurred with the 'persName' class. Examples such as 'Amazon,' 'gdyby być,' and 'jakby być' were classified into this category. In this case, the ratio of incorrect results to correct ones was the highest\n",
    "\n",
    "### 5. Do you think NER is sufficient for identifying different occurrences of the same entity (i.e. consider \"USA\" and \"Stany Zjednoczone\" and \"Stany Zjednoczone Ameryki Północnej\")? If not, can you suggest an algorithm or a tool that would be able to group such names together?\n",
    "\n",
    "The NER method struggles with identifying the same entity in different forms (as shown in the example provided). Additionally, when using NER, the phrase 'Stany Zjednoczone' was correctly classified as 'placeName,' but it was incorrectly assigned to the 'orgName' category five times. Maybye using Levenshtein distance could help with this issue.\n",
    "\n",
    "### 6. Can you think of a real world problem that would benefit the most from application of Named Entity Recognition algorithm?\n",
    "\n",
    "This functionality could be useful in content management systems, where we could automatically identify, for example, authors' names, book titles, event dates, etc., which would facilitate later organization and data retrieval."
   ]
  },
  {
   "cell_type": "code",
   "execution_count": null,
   "id": "60030856-1ebb-4573-90a4-6ac19c59bb97",
   "metadata": {},
   "outputs": [],
   "source": []
  }
 ],
 "metadata": {
  "kernelspec": {
   "display_name": "Python 3 (ipykernel)",
   "language": "python",
   "name": "python3"
  },
  "language_info": {
   "codemirror_mode": {
    "name": "ipython",
    "version": 3
   },
   "file_extension": ".py",
   "mimetype": "text/x-python",
   "name": "python",
   "nbconvert_exporter": "python",
   "pygments_lexer": "ipython3",
   "version": "3.9.20"
  }
 },
 "nbformat": 4,
 "nbformat_minor": 5
}
